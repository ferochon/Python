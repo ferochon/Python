{
  "nbformat": 4,
  "nbformat_minor": 0,
  "metadata": {
    "colab": {
      "name": "Ejercicio_POO_personajes.ipynb",
      "provenance": [],
      "collapsed_sections": [],
      "authorship_tag": "ABX9TyOYeYG5AwL+0GfA/93f5T+m",
      "include_colab_link": true
    },
    "kernelspec": {
      "name": "python3",
      "display_name": "Python 3"
    },
    "language_info": {
      "name": "python"
    }
  },
  "cells": [
    {
      "cell_type": "markdown",
      "metadata": {
        "id": "view-in-github",
        "colab_type": "text"
      },
      "source": [
        "<a href=\"https://colab.research.google.com/github/ferochon/Python/blob/main/Python/07.POO/Ejercicio_POO_personajes.ipynb\" target=\"_parent\"><img src=\"https://colab.research.google.com/assets/colab-badge.svg\" alt=\"Open In Colab\"/></a>"
      ]
    },
    {
      "cell_type": "markdown",
      "source": [
        "Vamos a crear una plantilla o clase de tipo personaje para un videojuego.\n",
        "aun no tenemos el método constructor que especíica loa atributos de la clase personaje. \n",
        "Vaamos por el momento sólo cómo ***declarar*** un objeto de esta clase llamado \n",
        "mi_personaje. Posteriormente con el objeto constructor se le dará personalidad a nuestro objeto."
      ],
      "metadata": {
        "id": "ZE7lLP-u_mQ4"
      }
    },
    {
      "cell_type": "code",
      "source": [
        "class Personaje:   #nótese que la declaración de la clase no requiere parentesis\n",
        "  pass # no hagas nada de momento\n",
        "\n",
        "mi_personaje= Personaje()   # para crear un objeto se guada en una variable\n",
        "print(mi_personaje)"
      ],
      "metadata": {
        "colab": {
          "base_uri": "https://localhost:8080/"
        },
        "id": "AsbBeAtQ_yVR",
        "outputId": "d39d6cae-b8e5-4629-c870-63a22b5c7ee1"
      },
      "execution_count": null,
      "outputs": [
        {
          "output_type": "stream",
          "name": "stdout",
          "text": [
            "<__main__.Personaje object at 0x7f1dd3660410>\n"
          ]
        }
      ]
    },
    {
      "cell_type": "markdown",
      "source": [
        "A continuación vamos a crear el método constructor para darle valores a los aatributos de nuestro objeto"
      ],
      "metadata": {
        "id": "5XIqFmqnSkrS"
      }
    },
    {
      "cell_type": "code",
      "source": [
        "class Personaje: \n",
        "  nombre='default'\n",
        "  fuerza=0\n",
        "  inteligencia=0\n",
        "  defensa=0\n",
        "  vida=0\n",
        "\n",
        "\n",
        "\n",
        "mi_personaje= Personaje()\n",
        "print('El nombre del jugador es:', mi_personaje.nombre)  #consultar las caracteristicas de un objeto con \".\"\n",
        "print('La fuerza del jugador es:', mi_personaje.fuerza)\n",
        "\n",
        "mi_personaje.fuerza=10    #modificar las caracteristicas de un objeto con \"=\"\n",
        "mi_personaje.nombre='Raff'\n",
        "print('El nombre del jugador es:', mi_personaje.nombre)  \n",
        "print('La fuerza del jugador es:', mi_personaje.fuerza)"
      ],
      "metadata": {
        "colab": {
          "base_uri": "https://localhost:8080/"
        },
        "id": "btZqE-agSzcB",
        "outputId": "cc2bbf8b-a7b6-4a87-c4fa-340383b47694"
      },
      "execution_count": null,
      "outputs": [
        {
          "output_type": "stream",
          "name": "stdout",
          "text": [
            "El nombre del jugador es: default\n",
            "La fuerza del jugador es: 5\n",
            "El nombre del jugador es: Raff\n",
            "La fuerza del jugador es: 10\n"
          ]
        }
      ]
    },
    {
      "cell_type": "markdown",
      "source": [
        "Hasta ahora sólo usamos los valores por defecto de nuestro personaje.\n",
        "Para realmente ***crear un objeto*** y tener la capacidad de ponerle valores es necesario crear un ***méodo constructor*** como sigue:"
      ],
      "metadata": {
        "id": "YdBvtko3Yd_y"
      }
    },
    {
      "cell_type": "code",
      "source": [
        "class Personaje: \n",
        "  def __init__(self, nombre,fuerza,inteligencia,defensa,vida):\n",
        "    self.nombre\n",
        "    self.fuerza\n",
        "    self.inteligencia\n",
        "    self.defensa\n",
        "    self.vida\n",
        "\n",
        "\n",
        "mi_personaje= Personaje()\n",
        "print('El nombre del jugador es:', mi_personaje.nombre)  \n",
        "print('La fuerza del jugador es:', mi_personaje.fuerza)\n",
        "\n",
        "mi_personaje.fuerza=10    \n",
        "mi_personaje.nombre='Raff'\n",
        "print('El nombre del jugador es:', mi_personaje.nombre)  \n",
        "print('La fuerza del jugador es:', mi_personaje.fuerza)"
      ],
      "metadata": {
        "colab": {
          "base_uri": "https://localhost:8080/",
          "height": 235
        },
        "id": "CnQ2RbLaZiKS",
        "outputId": "e3827399-f023-445d-ffad-82d5ad71ec05"
      },
      "execution_count": null,
      "outputs": [
        {
          "output_type": "error",
          "ename": "TypeError",
          "evalue": "ignored",
          "traceback": [
            "\u001b[0;31m---------------------------------------------------------------------------\u001b[0m",
            "\u001b[0;31mTypeError\u001b[0m                                 Traceback (most recent call last)",
            "\u001b[0;32m<ipython-input-11-d01f82d6c251>\u001b[0m in \u001b[0;36m<module>\u001b[0;34m\u001b[0m\n\u001b[1;32m      8\u001b[0m \u001b[0;34m\u001b[0m\u001b[0m\n\u001b[1;32m      9\u001b[0m \u001b[0;34m\u001b[0m\u001b[0m\n\u001b[0;32m---> 10\u001b[0;31m \u001b[0mmi_personaje\u001b[0m\u001b[0;34m=\u001b[0m \u001b[0mPersonaje\u001b[0m\u001b[0;34m(\u001b[0m\u001b[0;34m)\u001b[0m\u001b[0;34m\u001b[0m\u001b[0;34m\u001b[0m\u001b[0m\n\u001b[0m\u001b[1;32m     11\u001b[0m \u001b[0mprint\u001b[0m\u001b[0;34m(\u001b[0m\u001b[0;34m'El nombre del jugador es:'\u001b[0m\u001b[0;34m,\u001b[0m \u001b[0mmi_personaje\u001b[0m\u001b[0;34m.\u001b[0m\u001b[0mnombre\u001b[0m\u001b[0;34m)\u001b[0m  \u001b[0;31m#consultar las caracteristicas de un objeto con \".\"\u001b[0m\u001b[0;34m\u001b[0m\u001b[0;34m\u001b[0m\u001b[0m\n\u001b[1;32m     12\u001b[0m \u001b[0mprint\u001b[0m\u001b[0;34m(\u001b[0m\u001b[0;34m'La fuerza del jugador es:'\u001b[0m\u001b[0;34m,\u001b[0m \u001b[0mmi_personaje\u001b[0m\u001b[0;34m.\u001b[0m\u001b[0mfuerza\u001b[0m\u001b[0;34m)\u001b[0m\u001b[0;34m\u001b[0m\u001b[0;34m\u001b[0m\u001b[0m\n",
            "\u001b[0;31mTypeError\u001b[0m: __init__() missing 5 required positional arguments: 'nombre', 'fuerza', 'inteligencia', 'defensa', and 'vida'"
          ]
        }
      ]
    },
    {
      "cell_type": "markdown",
      "source": [],
      "metadata": {
        "id": "opbzioD_fb9F"
      }
    },
    {
      "cell_type": "markdown",
      "source": [
        "Con el código anterior marcará error porque ahora que existe el método constructor hace falta indicar los atributos correspondientes también al construir el objeto (el objeto se construye simplemente al poner el nombre de la clase asignado a una variable (p. e. mi_personaje= Persona(lista de atributos del constructor pero sin self) y se hace como sigue:"
      ],
      "metadata": {
        "id": "znEMTDd7fcGU"
      }
    },
    {
      "cell_type": "code",
      "source": [
        "class Personaje: \n",
        "  def __init__(self,nombre,fuerza,inteligencia,defensa,vida):\n",
        "    self.nombre=nombre\n",
        "    self.fuerza=fuerza\n",
        "    self.inteligencia=inteligencia\n",
        "    self.defensa=defensa\n",
        "    self.vida=vida\n",
        "\n",
        "\n",
        "mi_personaje= Personaje('Raff',10, 80, 90, 100)\n",
        "print('El nombre del jugador es:', mi_personaje.nombre)  \n",
        "print('La fuerza del jugador es:', mi_personaje.fuerza)\n",
        "\n",
        "\n",
        "print('El nombre del jugador es:', mi_personaje.nombre)  \n",
        "print('La fuerza del jugador es:', mi_personaje.fuerza)"
      ],
      "metadata": {
        "colab": {
          "base_uri": "https://localhost:8080/"
        },
        "id": "ylzrzU0Efuhy",
        "outputId": "c8bbdf42-b28b-4ef9-895e-9db6ac16953d"
      },
      "execution_count": 2,
      "outputs": [
        {
          "output_type": "stream",
          "name": "stdout",
          "text": [
            "El nombre del jugador es: Raff\n",
            "La fuerza del jugador es: 10\n",
            "El nombre del jugador es: Raff\n",
            "La fuerza del jugador es: 10\n"
          ]
        }
      ]
    },
    {
      "cell_type": "markdown",
      "source": [
        "Recuerda que al crear el objeto y el método constructor desde la creación debes enviar los valores que deseas que los atributos tengan para este objeto.\n",
        "Nota también que pueden crearse otros ***atributos adicionales*** ***derivados de los originalmente declarados en el constructor***, por ejemplo:\n",
        "self.aguante=fuerza * vida.\n",
        "También puede crearse otros que ***ni siquiera dependan de los argumentos originales*** por ejelmplo el turno de ataque:\n",
        "self.turno que arroja True o False"
      ],
      "metadata": {
        "id": "i9wJJB9ROo7u"
      }
    },
    {
      "cell_type": "markdown",
      "source": [
        "Vamos a hacea ahora otro método que nos muestre el estado_del_objeto, o sea el valor de sus atributos, esto es clasico para ver cómo va el estado de los poderesdes de un persnaje de un video juego. Como no se van a modoficar los atributos basta con sólo poner self, dentro del parentesis de lafunción."
      ],
      "metadata": {
        "id": "QwEU_4ihSfwL"
      }
    },
    {
      "cell_type": "code",
      "source": [
        "class Personaje: \n",
        "  def __init__(self,nombre,fuerza,inteligencia,defensa,vida):\n",
        "    self.nombre=nombre\n",
        "    self.fuerza=fuerza\n",
        "    self.inteligencia=inteligencia\n",
        "    self.defensa=defensa\n",
        "    self.vida=vida\n",
        "\n",
        "  def atributos(self): #este método no requiere más parámetros\n",
        "    print(self.nombre, ':', sep=' '  ) #sep=' ' separación de elemntos en un ' '\n",
        "    print('Fuerza: ', self.fuerza)\n",
        "    print('Inteligencia:', self.inteligencia)\n",
        "    print('Defensa: ', self.defensa )\n",
        "    print('Vida: ', self.vida)\n",
        "\n",
        "mi_personaje= Personaje('Raff',10, 5, 5, 100)\n",
        "\n",
        "mi_personaje.atributos()"
      ],
      "metadata": {
        "colab": {
          "base_uri": "https://localhost:8080/"
        },
        "id": "lVdT3nyqTYgt",
        "outputId": "4674f3e6-e742-4ac5-9600-79de90071f9b"
      },
      "execution_count": 14,
      "outputs": [
        {
          "output_type": "stream",
          "name": "stdout",
          "text": [
            "Raff :\n",
            "Fuerza:  10\n",
            "Inteligencia: 5\n",
            "Defensa:  5\n",
            "Vida:  100\n"
          ]
        }
      ]
    },
    {
      "cell_type": "markdown",
      "source": [
        "Ahora vamos a hacer un método para subir los niveles de los \"poderes\" de un personaje, ejemplo, creando el método subir_poder() donde además de self es necesario poner los atributos que serán modificados.\n",
        "Ejemplos de separadores sep:\n",
        "print('hey','hi','hello', sep='_')\n",
        "print('hey','hi','hello', sep='\\t')\n",
        "print('hey','hi','hello', sep='\\n')"
      ],
      "metadata": {
        "id": "xHceD0X-nx21"
      }
    },
    {
      "cell_type": "code",
      "source": [
        "class Personaje: \n",
        "  def __init__(self,nombre,fuerza,inteligencia,defensa,vida):\n",
        "    self.nombre=nombre\n",
        "    self.fuerza=fuerza\n",
        "    self.inteligencia=inteligencia\n",
        "    self.defensa=defensa\n",
        "    self.vida=vida\n",
        "\n",
        "  def atributos(self): #este método no requiere más parámetros\n",
        "    print(self.nombre, ':')    \n",
        "    print('.Fuerza: ', self.fuerza)\n",
        "    print('.Inteligencia:', self.inteligencia)\n",
        "    print('.Defensa: ', self.defensa )\n",
        "    print('.Vida: ', self.vida)\n",
        "\n",
        "  def subir_nivel(self,fuerza, inteligencia, defensa):  #además de self, ponemos los atributos que se van amodificar\n",
        "    self.fuerza=self.fuerza+fuerza\n",
        "    self.inteligencia=self.inteligencia+inteligencia\n",
        "    self.defensa=self.defensa+defensa\n",
        "    \n",
        "\n",
        "\n",
        "mi_personaje= Personaje('Raff',10, 5, 5, 100)\n",
        "mi_personaje.atributos()\n",
        "print(' ')\n",
        "mi_personaje.subir_nivel(1,2,0)\n",
        "mi_personaje.atributos()"
      ],
      "metadata": {
        "colab": {
          "base_uri": "https://localhost:8080/"
        },
        "id": "a0K5sWcDoUGA",
        "outputId": "2531e9f3-7db1-4e80-d13f-f9b53266650f"
      },
      "execution_count": 40,
      "outputs": [
        {
          "output_type": "stream",
          "name": "stdout",
          "text": [
            "Raff :\n",
            ".Fuerza:  10\n",
            ".Inteligencia: 5\n",
            ".Defensa:  5\n",
            ".Vida:  100\n",
            " \n",
            "Raff :\n",
            ".Fuerza:  11\n",
            ".Inteligencia: 7\n",
            ".Defensa:  5\n",
            ".Vida:  100\n"
          ]
        }
      ]
    },
    {
      "cell_type": "markdown",
      "source": [
        "Del código anterior podemos observar dos cosas:\n",
        "\n",
        " a)nota como a un objeto se le puden especificar con el \".\" un atributo del constructor (p. e. mi_personaje.fuerza o mi_personaje_defensa) o sele pueden asociar todos valores resultantes de los atributos de un método p. e. mi_personaje.atributos()\n",
        "\n",
        " b)Para imprimir el método asociado a un objeto no necesitas poner p.e.         print(nom_objeto.nom_metodo()) basta con poner nom_objeto.nom_metodo() y lo imprimirá"
      ],
      "metadata": {
        "id": "Y27TeZ4-AwWa"
      }
    },
    {
      "cell_type": "markdown",
      "source": [
        "Vamos a crear ahora un método que nos diga si un personje está vivo o no através de un resultado booleano (True o False). \n",
        "Contesta la sguiente pregunta: ¿este metodo necesita algún parámetro del constructor? y si es así ¿los modificará?.\n",
        "La respuesta es: necesita el valor de vida pero no lo modificará.\n",
        "Por lo tanto sólo lo consulta no lo modifica y por lo tanto el nuevo método sólo neecsita poner en el paréntesis de parámetros a self."
      ],
      "metadata": {
        "id": "_X7zRgsrJ8Mz"
      }
    },
    {
      "cell_type": "code",
      "source": [
        "class Personaje: \n",
        "  def __init__(self,nombre,fuerza,inteligencia,defensa,vida):\n",
        "    self.nombre=nombre\n",
        "    self.fuerza=fuerza\n",
        "    self.inteligencia=inteligencia\n",
        "    self.defensa=defensa\n",
        "    self.vida=vida\n",
        "\n",
        "  def atributos(self): #Este método me da los valores de los atributos de mi_personaje y no requiere más parámetros que self\n",
        "    print(self.nombre, ':')    \n",
        "    print('-Fuerza: ', self.fuerza)\n",
        "    print('-Inteligencia:', self.inteligencia)\n",
        "    print('-Defensa: ', self.defensa )\n",
        "    print('-Vida: ', self.vida)\n",
        "\n",
        "  def subir_nivel(self,fuerza, inteligencia, defensa):  #Este método le devuelve poder a algunas características de mi_personaje. Además de self, pondremos los atributos que se van a modificar\n",
        "    self.fuerza=self.fuerza+fuerza\n",
        "    self.inteligencia=self.inteligencia+inteligencia\n",
        "    self.defensa=self.defensa+defensa\n",
        "\n",
        "  def esta_vivo(self):          #Este metodo devuelve el valor booleano de la pregunta self.vida>0, o sea, mi_personaje ¿está vivo o muerto?\n",
        "    return self.vida>0          #a self.vida lo toma del valor que se envía al método constructor, lo evalua y retorna \"True\" o \"False\"\n",
        "\n",
        "\n",
        "\n",
        "mi_personaje= Personaje('Raff',10,5, 5,100)    #meter datos del personaje\n",
        "mi_personaje.atributos()                         #imprimir datos del personaje\n",
        "print(' ')\n",
        "mi_personaje.subir_nivel(1,2,0)                  #aumentar el poder del persoanaje\n",
        "mi_personaje.atributos()                         #imprimir datos del personaje\n",
        "mi_personaje.esta_vivo()                         #preguntar si está vivo el personaje\n",
        "print(mi_personaje.esta_vivo())                  #me da el resultado de la evaluación \"esta vivo\"\n",
        "print(' ')\n",
        " \n",
        "mi_personaje.vida=0                              #cambio manualmente el valor \"vida\" del personaje\n",
        "mi_personaje.atributos()                         #imprimir datos del personaje\n",
        "mi_personaje.esta_vivo()                         #invoca el método \"vida\" y  retorna la respuesta"
      ],
      "metadata": {
        "colab": {
          "base_uri": "https://localhost:8080/"
        },
        "id": "_Y0o4pXJML9f",
        "outputId": "7e697e28-6069-4ad1-ace6-7c0f7fc25820"
      },
      "execution_count": 49,
      "outputs": [
        {
          "output_type": "stream",
          "name": "stdout",
          "text": [
            "Raff :\n",
            "-Fuerza:  10\n",
            "-Inteligencia: 5\n",
            "-Defensa:  5\n",
            "-Vida:  100\n",
            " \n",
            "Raff :\n",
            "-Fuerza:  11\n",
            "-Inteligencia: 7\n",
            "-Defensa:  5\n",
            "-Vida:  100\n",
            "True\n",
            " \n",
            "Raff :\n",
            "-Fuerza:  11\n",
            "-Inteligencia: 7\n",
            "-Defensa:  5\n",
            "-Vida:  0\n"
          ]
        },
        {
          "output_type": "execute_result",
          "data": {
            "text/plain": [
              "False"
            ]
          },
          "metadata": {},
          "execution_count": 49
        }
      ]
    },
    {
      "cell_type": "markdown",
      "source": [
        "Nota cómo en el méodo esta_vivo la sentencia return devuelve el resultado de un if implicito (sin poner el if explicito), es decir si se cumple que self.vida>0 devolverá True si no devolverá False.\n",
        "***La pregunta es***: ¿por qué la primera vez que se invoca el método **esta_vivo** no devuelve el resultado, sólo lo evalua? y hay que mandarlo a imprimir para ver el resultado. la segunda vez que se invoca no sólo lo evalua sino que también lo retorna, o sea, lo imprime."
      ],
      "metadata": {
        "id": "9vLt1G0BNj2P"
      }
    }
  ]
}