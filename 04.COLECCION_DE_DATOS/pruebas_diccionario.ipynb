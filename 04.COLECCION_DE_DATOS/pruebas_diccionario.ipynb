{
  "nbformat": 4,
  "nbformat_minor": 0,
  "metadata": {
    "colab": {
      "name": "pruebas_diccionario.ipynb",
      "provenance": [],
      "collapsed_sections": [],
      "authorship_tag": "ABX9TyNed8jipI4n1Yg7pcZxFbaU",
      "include_colab_link": true
    },
    "kernelspec": {
      "name": "python3",
      "display_name": "Python 3"
    },
    "language_info": {
      "name": "python"
    }
  },
  "cells": [
    {
      "cell_type": "markdown",
      "metadata": {
        "id": "view-in-github",
        "colab_type": "text"
      },
      "source": [
        "<a href=\"https://colab.research.google.com/github/ferochon/Python/blob/main/04.COLECCION_DE_DATOS/pruebas_diccionario.ipynb\" target=\"_parent\"><img src=\"https://colab.research.google.com/assets/colab-badge.svg\" alt=\"Open In Colab\"/></a>"
      ]
    },
    {
      "cell_type": "code",
      "execution_count": 21,
      "metadata": {
        "colab": {
          "base_uri": "https://localhost:8080/"
        },
        "id": "m9vI8R99tEOY",
        "outputId": "ef2f0f68-2f6e-4492-e66e-ad3499213027"
      },
      "outputs": [
        {
          "output_type": "stream",
          "name": "stdout",
          "text": [
            "[{'nombre': 'clavo', 'precio': 0.3}, {'nombre': 'tornillo', 'precio': 0.15}]\n",
            "{'nombre': '', 'precio': '0.0'}\n",
            "clavo 0.3\n",
            "tornillo 0.15\n"
          ]
        }
      ],
      "source": [
        "producto={\n",
        "    'nombre':'',\n",
        "    'precio':'0.0'\n",
        "}\n",
        "\n",
        "\n",
        "\n",
        "#producto2={\n",
        "#    'nombre':precio        #así no funciona\n",
        "#}\n",
        "\n",
        "inventario=[]\n",
        "inventario2=[]\n",
        "\n",
        "inventario.append({'nombre':'clavo', 'precio':0.30})\n",
        "\n",
        "inventario.append({'nombre':'tornillo', 'precio':0.15})\n",
        "\n",
        "\n",
        "\n",
        "print(inventario)\n",
        "#print(inventario2)\n",
        "print(producto)\n",
        "\n",
        "for p in inventario:\n",
        "  print(p['nombre'],p['precio'])\n",
        " \n"
      ]
    },
    {
      "cell_type": "code",
      "source": [
        "alumno={\n",
        "    'nombre':'Juan',\n",
        "    'nota1': 10,\n",
        "    'nota2':9.5,\n",
        "    'nota3': 7.9\n",
        "}\n",
        "\n",
        "alumno['nombre']= 'Pedro'\n",
        "print(alumno)\n"
      ],
      "metadata": {
        "colab": {
          "base_uri": "https://localhost:8080/"
        },
        "id": "VT1AHChSLCOS",
        "outputId": "559af2d5-3630-4a2e-b548-89f2d9cd37bf"
      },
      "execution_count": 25,
      "outputs": [
        {
          "output_type": "stream",
          "name": "stdout",
          "text": [
            "{'nombre': 'Pedro', 'nota1': 10, 'nota2': 9.5, 'nota3': 7.9}\n"
          ]
        }
      ]
    },
    {
      "cell_type": "code",
      "source": [
        "def Diccionario_listas(z):\n",
        "  diccionario={\n",
        "  }\n",
        "  for i in range(1, z+1):\n",
        "    nombre=input(f'Introduce nombre {i}: ')\n",
        "    diccionario[nombre]=[]     #por cada nombre se asigna una lista vacia\n",
        "    \n",
        "    m=int(1) \n",
        "    pre_nota=float(input(f'Nota {m}: '))\n",
        "  \n",
        "    while pre_nota>=0:\n",
        "      nota= pre_nota\n",
        "      diccionario[nombre].append(nota)\n",
        "      m=m+1\n",
        "      pre_nota=float(input(f'Nota {m}: '))\n",
        "      \n",
        "    else:\n",
        "      print(f'{m-1} notas registradas')\n",
        "      print(' ')\n",
        "    \n",
        "    m=1  \n",
        "\n",
        "  return diccionario\n",
        "\n",
        "#n=int(1)     #control de número de alumnos\n",
        "    #número de nota\n",
        "\n",
        "\n",
        "num_alumnos=int(input(f'''Introduce el número de alumnos que vas a capturar: '''))\n",
        "print(' ')\n",
        "resultado=Diccionario_listas(num_alumnos)\n",
        "\n",
        " \n",
        "  \n",
        "  \n",
        "    \n",
        "  \n",
        "    \n",
        "print(resultado)\n"
      ],
      "metadata": {
        "colab": {
          "base_uri": "https://localhost:8080/"
        },
        "id": "77255Zog-Hk7",
        "outputId": "6a364dab-69c1-4b7c-aa0b-7e998928d26e"
      },
      "execution_count": 30,
      "outputs": [
        {
          "output_type": "stream",
          "name": "stdout",
          "text": [
            "Introduce el número de alumnos que vas a capturar: 5\n",
            " \n",
            "Introduce nombre 1: Beatriz\n",
            "Nota 1: 8.5\n",
            "Nota 2: 7.9\n",
            "Nota 3: 8.0\n",
            "Nota 4: 6.7\n",
            "Nota 5: 8.3\n",
            "Nota 6: -2\n",
            "5 notas registradas\n",
            " \n",
            "Introduce nombre 2: Adrián\n",
            "Nota 1: 10.0\n",
            "Nota 2: 6.6\n",
            "Nota 3: 8.4\n",
            "Nota 4: 5.9\n",
            "Nota 5: -3\n",
            "4 notas registradas\n",
            " \n",
            "Introduce nombre 3: Ricardo\n",
            "Nota 1: 8.3\n",
            "Nota 2: 8.7\n",
            "Nota 3: 6.2\n",
            "Nota 4: -5\n",
            "3 notas registradas\n",
            " \n",
            "Introduce nombre 4: Antonio\n",
            "Nota 1: 5.9\n",
            "Nota 2: 9.3\n",
            "Nota 3: 7.9\n",
            "Nota 4: 8.7\n",
            "Nota 5: 9.1\n",
            "Nota 6: 6.0\n",
            "Nota 7: 8.4\n",
            "Nota 8: -1\n",
            "7 notas registradas\n",
            " \n",
            "Introduce nombre 5: Rafael\n",
            "Nota 1: 10.0\n",
            "Nota 2: 9.9\n",
            "Nota 3: 9.8\n",
            "Nota 4: 10\n",
            "Nota 5: -3\n",
            "4 notas registradas\n",
            " \n",
            "{'Beatriz': [8.5, 7.9, 8.0, 6.7, 8.3], 'Adrián': [10.0, 6.6, 8.4, 5.9], 'Ricardo': [8.3, 8.7, 6.2], 'Antonio': [5.9, 9.3, 7.9, 8.7, 9.1, 6.0, 8.4], 'Rafael': [10.0, 9.9, 9.8, 10.0]}\n"
          ]
        }
      ]
    },
    {
      "cell_type": "code",
      "source": [
        "dic_1={}\n",
        "4 in dic_1\n",
        "dic_1={3,6,7,9,10}\n",
        "\n",
        "\n",
        "\n",
        "   \n"
      ],
      "metadata": {
        "id": "_a0WzolJRADP"
      },
      "execution_count": 28,
      "outputs": []
    }
  ]
}