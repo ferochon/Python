{
  "nbformat": 4,
  "nbformat_minor": 0,
  "metadata": {
    "colab": {
      "name": "Untitled5.ipynb",
      "provenance": [],
      "collapsed_sections": [],
      "include_colab_link": true
    },
    "kernelspec": {
      "name": "python3",
      "display_name": "Python 3"
    },
    "language_info": {
      "name": "python"
    }
  },
  "cells": [
    {
      "cell_type": "markdown",
      "metadata": {
        "id": "view-in-github",
        "colab_type": "text"
      },
      "source": [
        "<a href=\"https://colab.research.google.com/github/ferochon/Python/blob/main/04.COLECCION_DE_DATOS/Untitled5.ipynb\" target=\"_parent\"><img src=\"https://colab.research.google.com/assets/colab-badge.svg\" alt=\"Open In Colab\"/></a>"
      ]
    },
    {
      "cell_type": "markdown",
      "source": [
        "# Práctica 4. \n",
        "6 puntos\n",
        "\n",
        "Tipos de colección de datos.\n",
        "\n",
        "## 4.1 Ejercicio 1(1.2 puntos)\n",
        "Realizar un programa que inicialice una lista con 10 valores aleatorios (del 1 al 10) y posteriormente muestre en pantalla cada elemento de la lista junto con su cuadrado y su cubo. Respuesta:\n",
        "\n"
      ],
      "metadata": {
        "id": "5401D1bpSsU-"
      }
    },
    {
      "cell_type": "code",
      "execution_count": null,
      "metadata": {
        "id": "2evc8LMxSrwF",
        "outputId": "0ab89af8-f13c-40d6-bcba-fe9c2838a25a",
        "colab": {
          "base_uri": "https://localhost:8080/"
        }
      },
      "outputs": [
        {
          "output_type": "stream",
          "name": "stdout",
          "text": [
            "[2]\n",
            "[2, 4]\n",
            "[2, 4, 9]\n",
            "[2, 4, 9, 5]\n",
            "[2, 4, 9, 5, 8]\n",
            "[2, 4, 9, 5, 8, 3]\n",
            "[2, 4, 9, 5, 8, 3, 2]\n",
            "[2, 4, 9, 5, 8, 3, 2, 3]\n",
            "[2, 4, 9, 5, 8, 3, 2, 3, 7]\n",
            "[2, 4, 9, 5, 8, 3, 2, 3, 7, 9]\n",
            "\n",
            "Lista de 10 números aleatorios:\n",
            "[2, 4, 9, 5, 8, 3, 2, 3, 7, 9]\n",
            "\n",
            "Lista de cuadrados:\n",
            "[4, 16, 81, 25, 64, 9, 4, 9, 49, 81]\n",
            "\n",
            "Lista de cubos:\n",
            "[8, 64, 729, 125, 512, 27, 8, 27, 343, 729]\n"
          ]
        }
      ],
      "source": [
        "import random\n",
        "lista_num=[]\n",
        "lista_cuad=[]\n",
        "lista_cub=[]\n",
        "j=0\n",
        "while j<=9:\n",
        "  lista_num.append(random.randint(1,10))\n",
        "  lista_cuad.append(lista_num[j]**2)\n",
        "  lista_cub.append(lista_num[j]**3)\n",
        "  j=j+1\n",
        "  print(lista_num)\n",
        "print(f'''\n",
        "Lista de 10 números aleatorios:\n",
        "{lista_num}\n",
        "''')\n",
        "print(f'''Lista de cuadrados:\n",
        "{lista_cuad}\n",
        "''')\n",
        "print(f'''Lista de cubos:\n",
        "{lista_cub}''')# Tu código aqui"
      ]
    },
    {
      "cell_type": "markdown",
      "source": [
        "## 4.2 Ejercicio 2 (1.2 puntos)\n",
        "Crea una lista e inicializarla con 5 cadenas de caracteres leídas por teclado. Copia los elementos de la lista en otra lista pero en orden inverso, y muestra sus elementos por la pantalla.\n",
        "\n"
      ],
      "metadata": {
        "id": "mYeAdvL-S2m4"
      }
    },
    {
      "cell_type": "code",
      "source": [
        "lista1=[]\n",
        "lista2=[]\n",
        "i=int(0)\n",
        "while i<=4:\n",
        "  lista1.append(input('Introduce una cadena de caracteres: '))\n",
        "  i=i+1\n",
        "i=-1\n",
        "for j in lista1:\n",
        "  lista2.append(lista1[i])\n",
        "  i=i-1\n",
        "print(f'''\n",
        "La lista es: {lista1}''')\n",
        "print(f'''\n",
        "La lista invertida es: {lista2}''')"
      ],
      "metadata": {
        "id": "sW9gox1pS75K",
        "outputId": "73887918-6f34-4522-a7f5-458fac98d705",
        "colab": {
          "base_uri": "https://localhost:8080/"
        }
      },
      "execution_count": null,
      "outputs": [
        {
          "output_type": "stream",
          "name": "stdout",
          "text": [
            "Introduce una cadena de caracteres: yo\n",
            "Introduce una cadena de caracteres: me \n",
            "Introduce una cadena de caracteres: siento\n",
            "Introduce una cadena de caracteres: muy\n",
            "Introduce una cadena de caracteres: feliz\n",
            "\n",
            "La lista es: ['yo', 'me ', 'siento', 'muy', 'feliz']\n",
            "\n",
            "La lista invertida es: ['feliz', 'muy', 'siento', 'me ', 'yo']\n"
          ]
        }
      ]
    },
    {
      "cell_type": "markdown",
      "source": [
        "## 4.3 Ejercicio 3 (1.2 puntos)\n",
        "Se quiere realizar un programa que lea por teclado las 5 notas obtenidas por un alumno (comprendidas entre 0 y 10). A continuación debe mostrar todas las notas, la nota media, la nota más alta que ha sacado y la menor.\n",
        "\n"
      ],
      "metadata": {
        "id": "QWYc_eqVS96C"
      }
    },
    {
      "cell_type": "code",
      "source": [
        "nota={}\n",
        "i=int(0)\n",
        "boleta=[]\n",
        "asig=[]\n",
        "calif=[]\n",
        "suma=float(0)\n",
        "\n",
        "while i<5:\n",
        "  nota['asignatura']=input('Introduce una asignatura: ')\n",
        "  boleta.append(nota['asignatura'])\n",
        "  \n",
        "  nota['calificacion']=float(input('Introduce la calificaión: '))\n",
        "  boleta.append(nota['calificacion'])\n",
        "  calif.append(nota['calificacion'])\n",
        "  suma=suma+boleta[2*i+1]\n",
        "  i=i+1\n",
        "\n",
        "print(f'''\n",
        "''')\n",
        "\n",
        "print(boleta)\n",
        "\n",
        "print(f'''\n",
        "''')\n",
        "\n",
        "prom= suma/5\n",
        "minima=min(calif)\n",
        "maxima=max(calif)\n",
        "\n",
        "print('El promedio es: ',prom)\n",
        "print(f'''\n",
        "''')\n",
        "print('Calificación mínima: ',minima)\n",
        "print(f'''\n",
        "''')\n",
        "print('Calificación máxima:', maxima)"
      ],
      "metadata": {
        "id": "9NtUBQ3rTAlZ",
        "outputId": "edb004d5-559e-4439-cbc7-0523d9b6b2e2",
        "colab": {
          "base_uri": "https://localhost:8080/"
        }
      },
      "execution_count": null,
      "outputs": [
        {
          "output_type": "stream",
          "name": "stdout",
          "text": [
            "Introduce una asignatura: Matemáticas\n",
            "Introduce la calificaión: 9.6\n",
            "Introduce una asignatura: Inglés\n",
            "Introduce la calificaión: 7.7\n",
            "Introduce una asignatura: Física\n",
            "Introduce la calificaión: 8.7\n",
            "Introduce una asignatura: Química\n",
            "Introduce la calificaión: 5.2\n",
            "Introduce una asignatura: Historia\n",
            "Introduce la calificaión: 9.9\n",
            "\n",
            "\n",
            "['Matemáticas', 9.6, 'Inglés', 7.7, 'Física', 8.7, 'Química', 5.2, 'Historia', 9.9]\n",
            "\n",
            "\n",
            "El promedio es:  8.22\n",
            "\n",
            "\n",
            "Calificación mínima:  5.2\n",
            "\n",
            "\n",
            "Calificación máxima: 9.9\n"
          ]
        }
      ]
    },
    {
      "cell_type": "markdown",
      "source": [
        "## 4.4 Ejercicio 4 (1.2 puntos)\n",
        "Codifica un programa en python que nos permita guardar los nombres de los alumnos de una clase y las notas que han obtenido. Cada alumno puede tener distinta cantidad de notas. Guarda la información en un diccionario cuya claves serán los nombres de los alumnos y los valores serán listados con las notas de cada alumno.\n",
        "\n",
        "El programa pedirá el número de alumnos que vamos a introducir, pedirá su nombre e irá pidiendo sus notas hasta que introduzcamos un número negativo. Al final el programa nos mostrará la lista de alumnos y la nota media obtenida por cada uno de ellos. Nota: si se introduce el nombre de un alumno que ya existe el programa nos dará un error.\n",
        "\n"
      ],
      "metadata": {
        "id": "0SZRy56KTC3q"
      }
    },
    {
      "cell_type": "code",
      "source": [
        "def Diccionario_listas(z):\n",
        "  diccionario={}\n",
        "  promedios={}\n",
        "  for i in range(1, z+1):\n",
        "    nombre=input(f'Introduce el nombre {i}: ')\n",
        "    while nombre in diccionario:\n",
        "      print(f'Este nombre ya esta registrado.')\n",
        "      nombre=input(f'Introduce nuevamente el nombre {i}: ')\n",
        "    diccionario[nombre]=[]     #por cada nombre se asigna una lista vacia\n",
        "    promedios[nombre]=[]\n",
        "    suma=float(0.0)     #para acumular la suma de notas\n",
        "    m=int(1) \n",
        "    pre_nota=float(input(f'Nota {m}: '))\n",
        "  \n",
        "    while pre_nota>=0:\n",
        "      nota= pre_nota\n",
        "      suma=suma+nota\n",
        "      diccionario[nombre].append(nota)\n",
        "      m=m+1\n",
        "      pre_nota=float(input(f'Nota {m}: '))\n",
        "    prom=round(suma/(m-1),2)  \n",
        "    promedios[nombre].append(prom)  \n",
        "    print(f'{m-1} notas registradas')\n",
        "    print(' ')\n",
        "    \n",
        "    m=1  \n",
        "#Aquí termina el while\n",
        "  print(f'Boletas: {diccionario})') \n",
        "  print(f'Promedios: {promedios}') \n",
        "\n",
        "  \n",
        "\n",
        "num_alumnos=int(input(f'''Introduce el número de alumnos que vas a capturar: '''))\n",
        "print(' ')\n",
        "resultado=Diccionario_listas(num_alumnos)\n"
      ],
      "metadata": {
        "id": "Zai6eApUTGzk",
        "outputId": "5a939499-dfed-4e43-b897-8ff93ea51363",
        "colab": {
          "base_uri": "https://localhost:8080/"
        }
      },
      "execution_count": null,
      "outputs": [
        {
          "output_type": "stream",
          "name": "stdout",
          "text": [
            "Introduce el número de alumnos que vas a capturar: 5\n",
            " \n",
            "Introduce el nombre 1: Oscar González\n",
            "Nota 1: 8.2\n",
            "Nota 2: 7.9\n",
            "Nota 3: 6.6\n",
            "Nota 4: -1\n",
            "3 notas registradas\n",
            " \n",
            "Introduce el nombre 2: Ricardo Rodríguez\n",
            "Nota 1: 8.0\n",
            "Nota 2: 5.2\n",
            "Nota 3: 7.8\n",
            "Nota 4: 7.5\n",
            "Nota 5: -4\n",
            "4 notas registradas\n",
            " \n",
            "Introduce el nombre 3: Facundo Rosas\n",
            "Nota 1: 7.9\n",
            "Nota 2: 8.5\n",
            "Nota 3: 6.7\n",
            "Nota 4: 8.0\n",
            "Nota 5: 7.6\n",
            "Nota 6: -7\n",
            "5 notas registradas\n",
            " \n",
            "Introduce el nombre 4: Alicia Fuentes\n",
            "Nota 1: 8.0\n",
            "Nota 2: 9.5\n",
            "Nota 3: 10\n",
            "Nota 4: 7.9\n",
            "Nota 5: 9.8\n",
            "Nota 6: 8.7\n",
            "Nota 7: -9\n",
            "6 notas registradas\n",
            " \n",
            "Introduce el nombre 5: Rafael Hernández\n",
            "Nota 1: 9.5\n",
            "Nota 2: 10.0\n",
            "Nota 3: 9.7\n",
            "Nota 4: 9.9\n",
            "Nota 5: 8.0\n",
            "Nota 6: 9.1\n",
            "Nota 7: 8.0\n",
            "Nota 8: -7\n",
            "7 notas registradas\n",
            " \n",
            "Boletas: {'Oscar González': [8.2, 7.9, 6.6], 'Ricardo Rodríguez': [8.0, 5.2, 7.8, 7.5], 'Facundo Rosas': [7.9, 8.5, 6.7, 8.0, 7.6], 'Alicia Fuentes': [8.0, 9.5, 10.0, 7.9, 9.8, 8.7], 'Rafael Hernández': [9.5, 10.0, 9.7, 9.9, 8.0, 9.1, 8.0]})\n",
            "Promedios: {'Oscar González': [7.57], 'Ricardo Rodríguez': [7.12], 'Facundo Rosas': [7.74], 'Alicia Fuentes': [8.98], 'Rafael Hernández': [9.17]}\n"
          ]
        }
      ]
    },
    {
      "cell_type": "markdown",
      "source": [
        "## 4.5 Ejercicio 5 (1.2 puntos)\n",
        "Crea una tupla con los meses del año, pide números al usuario, si el número está entre 1 y la longitud máxima de la tupla, muestra el contenido de esa posición sino muestra un mensaje de error. El programa termina cuando el usuario introduce un cero.\n",
        "\n"
      ],
      "metadata": {
        "id": "BXyaY22ATI-M"
      }
    },
    {
      "cell_type": "code",
      "source": [
        "mes=('Enero', 'Febrero', 'Marzo', 'Abril', 'Mayo', 'Junio', 'Julio', 'Agosto', 'Septiembre', 'Octubre', 'Noviembre', 'Diciembre')\n",
        "numero=int(input('Dame un número entero: '))\n",
        "while numero!=0:\n",
        "  if 1<=numero<=12:\n",
        "    numero=numero-1\n",
        "    print('El número que ingresaste corresponde a: ', mes[numero])\n",
        "  else:\n",
        "   print('Error')  \n",
        "  numero=int(input('Dame otro número entero: '))\n",
        "print('Fin de programa')"
      ],
      "metadata": {
        "id": "c4mkDJNtTLLz",
        "outputId": "a04a42fc-baaa-4b1f-f0cf-d8335818a0bb",
        "colab": {
          "base_uri": "https://localhost:8080/"
        }
      },
      "execution_count": null,
      "outputs": [
        {
          "output_type": "stream",
          "name": "stdout",
          "text": [
            "Dame un número entero: 7\n",
            "El número que ingresaste corresponde a:  Julio\n",
            "Dame otro número entero: 10\n",
            "El número que ingresaste corresponde a:  Octubre\n",
            "Dame otro número entero: 0\n",
            "Fin de programa\n"
          ]
        }
      ]
    }
  ]
}