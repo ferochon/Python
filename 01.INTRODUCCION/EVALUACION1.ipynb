{
  "nbformat": 4,
  "nbformat_minor": 0,
  "metadata": {
    "colab": {
      "name": "EVALUACION1.ipynb",
      "provenance": [],
      "include_colab_link": true
    },
    "kernelspec": {
      "name": "python3",
      "display_name": "Python 3"
    },
    "language_info": {
      "name": "python"
    }
  },
  "cells": [
    {
      "cell_type": "markdown",
      "metadata": {
        "id": "view-in-github",
        "colab_type": "text"
      },
      "source": [
        "<a href=\"https://colab.research.google.com/github/ferochon/Python/blob/main/01.INTRODUCCION/EVALUACION1.ipynb\" target=\"_parent\"><img src=\"https://colab.research.google.com/assets/colab-badge.svg\" alt=\"Open In Colab\"/></a>"
      ]
    },
    {
      "cell_type": "markdown",
      "source": [
        "# Práctica 1. \n",
        "6 puntos\n",
        "\n",
        "1 Práctica 1: Conociendo Python.\n",
        "\n",
        "Objetivo: Identificar el nivel de comprensión de los conceptos mediante preguntas abiertas.\n",
        "\n",
        "Responder las siguientes preguntas:\n",
        "\n"
      ],
      "metadata": {
        "id": "j1eqhlwTACMT"
      }
    },
    {
      "cell_type": "markdown",
      "source": [
        "\n",
        "1.1 ¿Qué es python? (2 puntos)\n",
        "\n",
        "Es un lenguaje de programación de alto nivel (sencillo de leer y escribir debido a su alta similitud con el lenguaje humano), interpretado (se va ejecutando directamente línea a línea), orientado a objetos, multiplataforma y de código abierto (gratuito que permite desarrollar software sin límites) utilizado para desarrollar aplicaciones de todo tipo (multipropósito).\n",
        "\n",
        "1.2 ¿Es multiplataforma en que sistemas operativos funciona ? (2 puntos)\n",
        "\n",
        "Sí es multiplataforma, corre en Windows, Linux, Android, iOS y Macintosh. \n",
        "\n",
        " \n",
        "1.3 Ejercicio 1 (2 puntos) Escribir un programa que pregunte al usuario su nombre, y luego lo salude.\n"
      ],
      "metadata": {
        "id": "8rolc7oNANvo"
      }
    },
    {
      "cell_type": "code",
      "source": [
        "nombre= input(\"¿Cuál es tu nombre? \")\n",
        "print(\"¡Hola\", nombre,\"!\")\n"
      ],
      "metadata": {
        "id": "OpcH1h40AXRD",
        "colab": {
          "base_uri": "https://localhost:8080/"
        },
        "outputId": "2f0e5d54-a1b5-400b-92b1-062536172c79"
      },
      "execution_count": null,
      "outputs": [
        {
          "output_type": "stream",
          "name": "stdout",
          "text": [
            "¿Cuál es tu nombre? Rafael\n",
            "¡Hola Rafael !\n"
          ]
        }
      ]
    },
    {
      "cell_type": "markdown",
      "source": [
        ""
      ],
      "metadata": {
        "id": "dCqjwSCi3Owd"
      }
    },
    {
      "cell_type": "code",
      "source": [
        "nombre= input(\"¿Cuál es tu nombre? \")\n",
        "print(\"¡Hola\", nombre,\"!\")"
      ],
      "metadata": {
        "colab": {
          "base_uri": "https://localhost:8080/"
        },
        "id": "Bg8njsbN7Mer",
        "outputId": "8ce156e8-d001-4155-9187-14cec420ce97"
      },
      "execution_count": null,
      "outputs": [
        {
          "output_type": "stream",
          "name": "stdout",
          "text": [
            "¿Cuál es tu nombre? Manuel\n",
            "¡Hola Manuel !\n"
          ]
        }
      ]
    },
    {
      "cell_type": "markdown",
      "source": [
        ""
      ],
      "metadata": {
        "id": "ziCl44e73Oy6"
      }
    }
  ]
}