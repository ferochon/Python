{
  "nbformat": 4,
  "nbformat_minor": 0,
  "metadata": {
    "colab": {
      "name": "Evaluacion_7b.ipynb",
      "provenance": [],
      "collapsed_sections": [],
      "authorship_tag": "ABX9TyMAJUWulAlTH2BoiD6obM1Y",
      "include_colab_link": true
    },
    "kernelspec": {
      "name": "python3",
      "display_name": "Python 3"
    },
    "language_info": {
      "name": "python"
    }
  },
  "cells": [
    {
      "cell_type": "markdown",
      "metadata": {
        "id": "view-in-github",
        "colab_type": "text"
      },
      "source": [
        "<a href=\"https://colab.research.google.com/github/ferochon/Python/blob/main/07.POO/Evaluacion7.ipynb\" target=\"_parent\"><img src=\"https://colab.research.google.com/assets/colab-badge.svg\" alt=\"Open In Colab\"/></a>"
      ]
    },
    {
      "cell_type": "markdown",
      "source": [
        "#Práctica 7. Programación orientada a objetos. (6 puntos)"
      ],
      "metadata": {
        "id": "FFr24D4aa1Gh"
      }
    },
    {
      "cell_type": "markdown",
      "source": [
        "##Ejercicio 1 (2 puntos)\n",
        "\n",
        "Vamos a crear una clase llamada Persona. Sus atributos son: nombre, edad y DNI. Construye los siguientes métodos para la clase:\n",
        "\n",
        "● Un constructor, donde los datos pueden estar vacíos.\n",
        "\n",
        "● Los setters y getters para cada uno de los atributos. Hay que validar las entradas de datos.\n",
        "\n",
        "● mostrar(): Muestra los datos de la persona.\n",
        "\n",
        "● esMayorDeEdad(): Devuelve un valor lógico indicando si es mayor de edad."
      ],
      "metadata": {
        "id": "gT7u2Utka38f"
      }
    },
    {
      "cell_type": "code",
      "execution_count": null,
      "metadata": {
        "id": "SUuto42XzvPV",
        "colab": {
          "base_uri": "https://localhost:8080/"
        },
        "outputId": "565b8f93-839f-4afd-fef0-8fe47d364f8d"
      },
      "outputs": [
        {
          "output_type": "stream",
          "name": "stdout",
          "text": [
            "Eres mayor de edad\n",
            "Ficha:\n",
            "    Nombre:Eduardo López Pérez\n",
            "    Edad:24\n",
            "    RFC:LOPE980710\n"
          ]
        }
      ],
      "source": [
        "class Persona:\n",
        "  \n",
        "  def __init__(self, nombre, edad, dni):\n",
        "    self.__nombre= nombre\n",
        "    self.__edad= edad\n",
        "    self.__dni=dni\n",
        "    @\n",
        "\n",
        "  def mostrar(self):\n",
        "    print(f'''Ficha:\n",
        "    Nombre:{self.nombre}\n",
        "    Edad:{self.edad}\n",
        "    RFC:{self.dni}''')\n",
        "\n",
        "    \n",
        "  def mayor_de_edad(self):\n",
        "    if self.edad>=18:\n",
        "      print('Eres mayor de edad')\n",
        "    else:\n",
        "      print('Eres menor de edad')\n",
        "\n",
        "\n",
        "Eduardo=Persona('Eduardo López Pérez', 24, 'LOPE980710')\n",
        "Eduardo.mayor_de_edad()\n",
        "Eduardo.mostrar()\n",
        "\n",
        "\n",
        "\n"
      ]
    },
    {
      "cell_type": "code",
      "source": [
        "class Cuenta():\n",
        "  \n",
        "  def __init__(self,titular, saldo):\n",
        "    self.titular=titular\n",
        "    self.saldo=saldo\n",
        "\n",
        "  def ingresar(self, cantidad):\n",
        "    if cantidad>=0:\n",
        "      self.saldo= self.saldo + cantidad\n",
        "    \n",
        "  def retirar(self, cantidad):\n",
        "    if 0<cantidad<= self.saldo:\n",
        "      self.saldo=self.saldo-cantidad\n",
        "\n",
        "\n",
        "  def mostrar(self):\n",
        "    print(f'''Titular: {self.titular}\n",
        "    Cantidad: {self.saldo}''')\n",
        "\n",
        "  \n",
        "mi_cuenta=Cuenta('Alcantara Javier', 500)\n",
        "mi_cuenta.ingresar(10000)\n",
        "mi_cuenta.retirar(700)\n",
        "\n",
        "print(f'''Titular: {mi_cuenta.titular}\n",
        "Saldo : {mi_cuenta.saldo} ''')\n",
        "\n",
        "  "
      ],
      "metadata": {
        "colab": {
          "base_uri": "https://localhost:8080/"
        },
        "id": "FNrhwa3U-EpG",
        "outputId": "438e7540-5908-4217-c999-d14c88eae17c"
      },
      "execution_count": null,
      "outputs": [
        {
          "output_type": "stream",
          "name": "stdout",
          "text": [
            "Titular: Alcantara Javier\n",
            "Saldo : 9800 \n"
          ]
        }
      ]
    },
    {
      "cell_type": "markdown",
      "source": [
        "Versión con un saldo que entra como dato"
      ],
      "metadata": {
        "id": "j8q6032G0_3K"
      }
    },
    {
      "cell_type": "code",
      "source": [
        "class Cuenta():\n",
        "  \n",
        "  def __init__(self,titular):\n",
        "    self.titular=titular\n",
        "    self.saldo= saldo=float(500)\n",
        "\n",
        "\n",
        "  def ingresar(self, cantidad):\n",
        "    if cantidad>=0:\n",
        "      self.saldo= self.saldo + cantidad\n",
        "    \n",
        "  def retirar(self, cantidad):\n",
        "    if 0<cantidad<= self.saldo:\n",
        "      self.saldo=self.saldo-cantidad\n",
        "\n",
        "  def mostrar(self):\n",
        "    print(f'''Titular: {self.titular}\n",
        "    Cantidad: {self.saldo}''')\n",
        "\n",
        "  \n",
        "mi_cuenta=Cuenta('Alcantara Javier')\n",
        "mi_cuenta.ingresar(10000)\n",
        "mi_cuenta.retirar(700)\n",
        "\n",
        "print(f'''Titular: {mi_cuenta.titular}\n",
        "Saldo : {mi_cuenta.saldo} ''')"
      ],
      "metadata": {
        "colab": {
          "base_uri": "https://localhost:8080/"
        },
        "id": "TFmNTIxrznIo",
        "outputId": "5e5c2595-971e-4e07-b0dd-c33cf6b8a579"
      },
      "execution_count": null,
      "outputs": [
        {
          "output_type": "stream",
          "name": "stdout",
          "text": [
            "Titular: Alcantara Javier\n",
            "Saldo : 9800.0 \n"
          ]
        }
      ]
    },
    {
      "cell_type": "markdown",
      "source": [
        "versión con un saldo ya predefinido"
      ],
      "metadata": {
        "id": "-r3RmSeu1VBe"
      }
    }
  ]
}