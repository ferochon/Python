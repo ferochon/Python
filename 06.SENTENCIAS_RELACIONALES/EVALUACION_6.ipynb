{
  "nbformat": 4,
  "nbformat_minor": 0,
  "metadata": {
    "colab": {
      "name": "EVALUACION_6.ipynb",
      "provenance": [],
      "collapsed_sections": [],
      "include_colab_link": true
    },
    "kernelspec": {
      "name": "python3",
      "display_name": "Python 3"
    },
    "language_info": {
      "name": "python"
    }
  },
  "cells": [
    {
      "cell_type": "markdown",
      "metadata": {
        "id": "view-in-github",
        "colab_type": "text"
      },
      "source": [
        "<a href=\"https://colab.research.google.com/github/ferochon/Python/blob/main/06.SENTENCIAS_RELACIONALES/EVALUACION_6.ipynb\" target=\"_parent\"><img src=\"https://colab.research.google.com/assets/colab-badge.svg\" alt=\"Open In Colab\"/></a>"
      ]
    },
    {
      "cell_type": "markdown",
      "source": [
        "# 6 Práctica\n",
        "Sentencias condicionales. (6 puntos)\n",
        "\n",
        "## Ejercicio 1 (1.5 puntos)\n",
        "Realizar un ejemplo de menú, donde podemos escoger las distintas opciones hasta que seleccionamos la opción de “Salir”.\n",
        "\n",
        "Menú de recomendaciones\n",
        "\n",
        "* Literatura\n",
        "* Cine\n",
        "* Música\n",
        "* Videojuegos\n",
        "* Salir\n",
        "\n",
        "Al ingresar una opcion\n",
        "\n",
        "opcion 1:\n",
        "\n",
        "Lecturas recomendables:\n",
        "\n",
        "* Esperándolo a Tito y otros cuentos de fútbol (Eduardo Sacheri)\n",
        "* El juego de Ender (Orson Scott Card)\n",
        "* El sueño de los héroes (Adolfo Bioy Casares)\n",
        "\n",
        "opcion 2:\n",
        "\n",
        "Películas recomendables:\n",
        "\n",
        "* Matrix (1999)\n",
        "* El último samuray (2003)\n",
        "* Cars (2006)\n",
        "\n",
        "opcion 3:\n",
        "\n",
        "Discos recomendables:\n",
        "\n",
        "* Despedazado por mil partes (La Renga, 1996)\n",
        "* Búfalo (La Mississippi, 2008)\n",
        "* Gaia (Mago de Oz, 2003)\n",
        "\n",
        "opcion 4:\n",
        "\n",
        "* Videojuegos clásicos recomendables\n",
        "* Día del tentáculo (LucasArts, 1993)\n",
        "* Terminal Velocity (Terminal Reality/3D Realms, 1995)\n",
        "* Death Rally (Remedy/Apogee, 1996)\n",
        "\n",
        "opcion 5:\n",
        "\n",
        "Gracias, vuelva prontos\n",
        "\n",
        "Opción no válida, en caso de ingresar un número fuera de las opciones\n",
        "\n"
      ],
      "metadata": {
        "id": "uvxPhEvyOpzM"
      }
    },
    {
      "cell_type": "code",
      "execution_count": null,
      "metadata": {
        "id": "3PNomPUSOpRw",
        "colab": {
          "base_uri": "https://localhost:8080/"
        },
        "outputId": "8dfe59a5-dd32-4c8a-e51e-74e02ed400bf"
      },
      "outputs": [
        {
          "output_type": "stream",
          "name": "stdout",
          "text": [
            "Menú de recomedaciones\n",
            "(1) Literatura\n",
            "(2) Cine\n",
            "(3) Música\n",
            "(4) Videojuegos\n",
            "(5) Salir\n",
            "\n",
            "Introduce tu elección (1,2,3,4,5): 3\n",
            "\n",
            "          Discos recomendables:\n",
            "\n",
            "          °Despedazado por mil partes (La Renga, 1996)\n",
            "          °Búfalo (La Mississippi, 2008)\n",
            "          °Gaia (Mago de Oz, 2003)\n",
            "      \n",
            "Introduce tu elección (1,2,3,4,5): 4\n",
            "\n",
            "          Videojuegos clásicos recomendables\n",
            "\n",
            "          °Día del tentáculo (LucasArts, 1993)\n",
            "          °Terminal Velocity (Terminal Reality/3D Realms, 1995)\n",
            "          °Death Rally (Remedy/Apogee, 1996)\n",
            "      \n",
            "Introduce tu elección (1,2,3,4,5): 5\n",
            "Gracias, vuelva pronto\n"
          ]
        }
      ],
      "source": [
        "\n",
        "\n",
        "print(f'''Menú de recomedaciones\n",
        "(1) Literatura\n",
        "(2) Cine\n",
        "(3) Música\n",
        "(4) Videojuegos\n",
        "(5) Salir\n",
        "''')\n",
        "\n",
        "seleccion=0\n",
        "\n",
        "while seleccion!= 5:\n",
        "  seleccion=int(input(f'Introduce tu elección (1,2,3,4,5): '))\n",
        "  if seleccion==1:\n",
        "      print(f'''\n",
        "          Lecturas recomendables:\n",
        "\n",
        "          °Esperándolo a Tito y otros cuentos de fútbol (Eduardo Sacheri)\n",
        "          °El juego de Ender (Orson Scott Card)\n",
        "          °El sueño de los héroes (Adolfo Bioy Casares)\n",
        "      ''')\n",
        "          \n",
        "    \n",
        "  elif seleccion==2:\n",
        "    print(f'''\n",
        "          Películas recomendables:\n",
        "\n",
        "          °Matrix (1999)\n",
        "          °El último samuray (2003)\n",
        "          °Cars (2006)\n",
        "      ''')\n",
        "\n",
        "  elif seleccion==3:\n",
        "    print(f'''\n",
        "          Discos recomendables:\n",
        "\n",
        "          °Despedazado por mil partes (La Renga, 1996)\n",
        "          °Búfalo (La Mississippi, 2008)\n",
        "          °Gaia (Mago de Oz, 2003)\n",
        "      ''')\n",
        "  \n",
        "  elif seleccion==4:\n",
        "    print(f'''\n",
        "          Videojuegos clásicos recomendables\n",
        "\n",
        "          °Día del tentáculo (LucasArts, 1993)\n",
        "          °Terminal Velocity (Terminal Reality/3D Realms, 1995)\n",
        "          °Death Rally (Remedy/Apogee, 1996)\n",
        "      ''')\n",
        "\n",
        "  elif seleccion==5:\n",
        "    print('Gracias, vuelva pronto')\n",
        "    break\n",
        "  else:\n",
        "    print(f'''\n",
        "    Opción inválida.\n",
        "    ''')\n",
        "\n",
        "    print(f'''Menú de recomedaciones\n",
        "    (1) Literatura\n",
        "    (2) Cine\n",
        "    (3) Música\n",
        "    (4) Videojuegos\n",
        "    (5) Salir\n",
        "    ''')  \n",
        "\n",
        " \n",
        "      \n",
        "\n",
        "      "
      ]
    },
    {
      "cell_type": "markdown",
      "source": [
        "## Ejercicio 2 (1.5 puntos)\n",
        "Se pide por teclado un número y nos imprime los números primos que hay previos a este número.\n",
        "\n",
        "Ejemplo: si ingresamos el 10 nos imprima del 1 a ese 10 cuales números son primos.\n"
      ],
      "metadata": {
        "id": "hwpI5TwUPMNa"
      }
    },
    {
      "cell_type": "code",
      "source": [
        "primos=[]\n",
        "x=int(1)\n",
        "contador=int(0)\n",
        "\n",
        "numero=int(input('Dame un número entero positivo: '))\n",
        "while numero>=1:\n",
        "  x=1\n",
        "  contador=0\n",
        "  while x<= numero:\n",
        "    if numero%x==0:\n",
        "      contador=contador+1\n",
        "    x=x+1\n",
        "  if contador==2:\n",
        "    print(f'{numero} es un número primo')\n",
        "    primos.append(numero)\n",
        "  else:\n",
        "    print(f'{numero} no es un número primo')\n",
        "  numero=numero-1\n",
        "\n",
        "#contador=0\n",
        "\n",
        "print(primos)\n",
        "#pruebas de control:\n",
        "#print(numero)\n",
        "#print(contador)\n",
        "#print(x)"
      ],
      "metadata": {
        "id": "TLccJKM3PQMI",
        "outputId": "c0580b84-3ecf-4e13-cd5e-be8a5c47f2f5",
        "colab": {
          "base_uri": "https://localhost:8080/"
        }
      },
      "execution_count": null,
      "outputs": [
        {
          "output_type": "stream",
          "name": "stdout",
          "text": [
            "Dame un número entero positivo: 30\n",
            "30 no es un número primo\n",
            "29 es un número primo\n",
            "28 no es un número primo\n",
            "27 no es un número primo\n",
            "26 no es un número primo\n",
            "25 no es un número primo\n",
            "24 no es un número primo\n",
            "23 es un número primo\n",
            "22 no es un número primo\n",
            "21 no es un número primo\n",
            "20 no es un número primo\n",
            "19 es un número primo\n",
            "18 no es un número primo\n",
            "17 es un número primo\n",
            "16 no es un número primo\n",
            "15 no es un número primo\n",
            "14 no es un número primo\n",
            "13 es un número primo\n",
            "12 no es un número primo\n",
            "11 es un número primo\n",
            "10 no es un número primo\n",
            "9 no es un número primo\n",
            "8 no es un número primo\n",
            "7 es un número primo\n",
            "6 no es un número primo\n",
            "5 es un número primo\n",
            "4 no es un número primo\n",
            "3 es un número primo\n",
            "2 es un número primo\n",
            "1 no es un número primo\n",
            "[29, 23, 19, 17, 13, 11, 7, 5, 3, 2]\n"
          ]
        }
      ]
    },
    {
      "cell_type": "markdown",
      "source": [
        "\n",
        "## Ejercicio 3 (1.5 puntos)\n",
        "Una persona adquirió un producto para pagar en 20 meses. El primer mes pagó 10 €, el segundo 20 €, el tercero 40 € y así sucesivamente. Realizar un algoritmo para determinar cuánto debe pagar mensualmente y el total de lo que pagó después de los 20 meses.\n",
        "\n",
        "Al finalizar los 20 meses pago en total:\n",
        "\n",
        "primer mes pago 10, segundo mes pago 20, tercer mes pago 30, cuarto mes pago 40, etc."
      ],
      "metadata": {
        "id": "OFocRk5oPSqp"
      }
    },
    {
      "cell_type": "code",
      "source": [
        "\n",
        "suma=int(0)\n",
        "\n",
        "for i in range(20):\n",
        "  pago=10*(2**i)     #si fuera el doble cada mes,entonces pago= (i+1)*10\n",
        "  suma=suma+pago\n",
        "  print(f'El mes {i+1} pagó {pago} euros')\n",
        "  \n",
        "print(f'La suma total a pagar en 20 meses es {suma} euros')"
      ],
      "metadata": {
        "id": "bV0ApoCHPU_Z",
        "colab": {
          "base_uri": "https://localhost:8080/"
        },
        "outputId": "32616dc6-6ec5-45db-c7c8-7c12b3545571"
      },
      "execution_count": 1,
      "outputs": [
        {
          "output_type": "stream",
          "name": "stdout",
          "text": [
            "El mes 1 pagó 10 euros\n",
            "El mes 2 pagó 20 euros\n",
            "El mes 3 pagó 40 euros\n",
            "El mes 4 pagó 80 euros\n",
            "El mes 5 pagó 160 euros\n",
            "El mes 6 pagó 320 euros\n",
            "El mes 7 pagó 640 euros\n",
            "El mes 8 pagó 1280 euros\n",
            "El mes 9 pagó 2560 euros\n",
            "El mes 10 pagó 5120 euros\n",
            "El mes 11 pagó 10240 euros\n",
            "El mes 12 pagó 20480 euros\n",
            "El mes 13 pagó 40960 euros\n",
            "El mes 14 pagó 81920 euros\n",
            "El mes 15 pagó 163840 euros\n",
            "El mes 16 pagó 327680 euros\n",
            "El mes 17 pagó 655360 euros\n",
            "El mes 18 pagó 1310720 euros\n",
            "El mes 19 pagó 2621440 euros\n",
            "El mes 20 pagó 5242880 euros\n",
            "La suma total a pagar en 20 meses es 10485750 euros\n"
          ]
        }
      ]
    }
  ]
}