{
  "nbformat": 4,
  "nbformat_minor": 0,
  "metadata": {
    "colab": {
      "name": "Ejercicios_funciones.ipynb",
      "provenance": [],
      "collapsed_sections": [],
      "include_colab_link": true
    },
    "kernelspec": {
      "name": "python3",
      "display_name": "Python 3"
    },
    "language_info": {
      "name": "python"
    }
  },
  "cells": [
    {
      "cell_type": "markdown",
      "metadata": {
        "id": "view-in-github",
        "colab_type": "text"
      },
      "source": [
        "<a href=\"https://colab.research.google.com/github/ferochon/Python/blob/main/06.SENTENCIAS_RELACIONALES/Ejercicios_funciones.ipynb\" target=\"_parent\"><img src=\"https://colab.research.google.com/assets/colab-badge.svg\" alt=\"Open In Colab\"/></a>"
      ]
    },
    {
      "cell_type": "markdown",
      "source": [
        "## Ejercicio 1\n",
        "Escribir una función que muestre por pantalla el saludo ¡Hola amiga(o)! cada vez que se la invoque."
      ],
      "metadata": {
        "id": "YWx64NiMIfdZ"
      }
    },
    {
      "cell_type": "code",
      "source": [
        "def Saludo():\n",
        "  return print('Hola amigo')\n",
        "\n",
        "Saludo()"
      ],
      "metadata": {
        "id": "3nkL6teLIvdl",
        "outputId": "b3c371ef-ce50-472b-dd9e-1b8251f0af45",
        "colab": {
          "base_uri": "https://localhost:8080/"
        }
      },
      "execution_count": null,
      "outputs": [
        {
          "output_type": "stream",
          "name": "stdout",
          "text": [
            "Hola amigo\n"
          ]
        }
      ]
    },
    {
      "cell_type": "markdown",
      "source": [
        "## Ejercicio 2\n",
        "Escribir una función a la que se le pase una cadena nombre y muestre por pantalla el saludo ¡hola nombre!."
      ],
      "metadata": {
        "id": "Sx8CECVbI1oD"
      }
    },
    {
      "cell_type": "code",
      "source": [
        "def Da_nombre():\n",
        "  nombre=input('Dame tu nombre: ')\n",
        "  print(f'Hola {nombre}!')\n",
        "\n",
        "Da_nombre()\n"
      ],
      "metadata": {
        "id": "ELoyrQj-JOyq",
        "outputId": "48990e39-3664-44ba-88fd-5b7bc0bfdc92",
        "colab": {
          "base_uri": "https://localhost:8080/"
        }
      },
      "execution_count": null,
      "outputs": [
        {
          "output_type": "stream",
          "name": "stdout",
          "text": [
            "Dame tu nombre: Rafael\n",
            "Hola Rafael!\n"
          ]
        }
      ]
    },
    {
      "cell_type": "markdown",
      "source": [
        "## Ejercicio 3\n",
        "Escribir una función que calcule el total de una factura tras aplicarle el IVA. La función debe recibir la cantidad sin IVA y el porcentaje de IVA a aplicar, y devolver el total de la factura. Si se invoca la función sin pasarle el porcentaje de IVA, deberá aplicar un 16%."
      ],
      "metadata": {
        "id": "Lm7Qo1eqJRGX"
      }
    },
    {
      "cell_type": "code",
      "source": [
        "def Factura(subtotal,iva=0.16):\n",
        "  total=subtotal* iva\n",
        "  return total\n",
        "\n",
        "x=500\n",
        "Factura(x,0.10)       "
      ],
      "metadata": {
        "id": "-5uvJCB5KHSm",
        "outputId": "994549e5-7176-482e-f1f7-cad9e4c6b56a",
        "colab": {
          "base_uri": "https://localhost:8080/"
        }
      },
      "execution_count": null,
      "outputs": [
        {
          "output_type": "execute_result",
          "data": {
            "text/plain": [
              "50.0"
            ]
          },
          "metadata": {},
          "execution_count": 12
        }
      ]
    },
    {
      "cell_type": "markdown",
      "source": [
        "## Ejercicio 4: Trabajar con argumentos en funciones\n",
        "Los argumentos requeridos en las funciones se utilizan cuando las funciones necesitan que esos argumentos funcionen correctamente.\n",
        "\n",
        "Comienza por crear una función que necesite tres lecturas de calificaciones y devuelva un informe:"
      ],
      "metadata": {
        "id": "KKiK1kZzVpm0"
      }
    },
    {
      "cell_type": "code",
      "source": [
        "def Calificaciones(x,y,z):\n",
        "  prom= (x+y+z)/3\n",
        "  return(f'El promedio de  {x}, {y} y {z} es {prom}')\n",
        "\n",
        "\n",
        "calif1= float(input('Dame la primera calificación:'))\n",
        "calif2= float(input('Dame la segunda calificación:'))\n",
        "calif3= float(input('Dame la tecera calificación:'))\n",
        "\n",
        "\n",
        "Calificaciones(calif1,calif2,calif3)\n"
      ],
      "metadata": {
        "id": "wrLfV98GVyyJ",
        "outputId": "a66444a4-e43b-4dd6-8f71-5e11ffa99ca1",
        "colab": {
          "base_uri": "https://localhost:8080/",
          "height": 87
        }
      },
      "execution_count": null,
      "outputs": [
        {
          "name": "stdout",
          "output_type": "stream",
          "text": [
            "Dame la primera calificación:10\n",
            "Dame la segunda calificación:9\n",
            "Dame la tecera calificación:8\n"
          ]
        },
        {
          "output_type": "execute_result",
          "data": {
            "text/plain": [
              "'El promedio de  10.0, 9.0 y 8.0 es 9.0'"
            ],
            "application/vnd.google.colaboratory.intrinsic+json": {
              "type": "string"
            }
          },
          "metadata": {},
          "execution_count": 13
        }
      ]
    },
    {
      "cell_type": "markdown",
      "source": [
        "Ahora que hemos definido la función de informes, vamos a comprobarlo. Las calificaciones serán 8,7,10"
      ],
      "metadata": {
        "id": "pBtVyatLV3CU"
      }
    },
    {
      "cell_type": "code",
      "source": [
        "# Llamamos a la función que genera el reporte print(funcion(cal1, cal2, cal3))\n"
      ],
      "metadata": {
        "id": "jrnr_SP3WOB1"
      },
      "execution_count": null,
      "outputs": []
    },
    {
      "cell_type": "markdown",
      "source": [
        "En lugar de simplemente crear el informe, la función también está calculando el promedio. Mejora la legibilidad extrayendo el cálculo promedio de la función en una nueva función para que el promedio se pueda hacer de forma independiente:"
      ],
      "metadata": {
        "id": "uvxEfXjBWe0g"
      }
    },
    {
      "cell_type": "code",
      "source": [
        "# Función promedio "
      ],
      "metadata": {
        "id": "paiWvAT6WlcH"
      },
      "execution_count": null,
      "outputs": []
    },
    {
      "cell_type": "markdown",
      "source": [
        "Ahora actualiza la función de informes para llamando a la nueva función del promedio:"
      ],
      "metadata": {
        "id": "7_4M9H0eWoY9"
      }
    },
    {
      "cell_type": "code",
      "source": [
        "# Actualiza la función"
      ],
      "metadata": {
        "id": "FchdIDElWq6y"
      },
      "execution_count": null,
      "outputs": []
    },
    {
      "cell_type": "markdown",
      "source": [
        "## SOLUCION"
      ],
      "metadata": {
        "id": "K1koSJUpWs2L"
      }
    },
    {
      "cell_type": "code",
      "source": [
        ""
      ],
      "metadata": {
        "id": "vKjim4bVKXsI"
      },
      "execution_count": null,
      "outputs": []
    },
    {
      "cell_type": "markdown",
      "source": [
        "Ejercicio 3"
      ],
      "metadata": {
        "id": "sfHlRxh5KQBd"
      }
    },
    {
      "cell_type": "code",
      "source": [
        "def factura(monto, iva=16):\n",
        "    return monto + monto*iva/100\n",
        "\n",
        "print(factura(452,10))\n",
        "print(factura(452))"
      ],
      "metadata": {
        "id": "NFPdw8GxKTJ6"
      },
      "execution_count": null,
      "outputs": []
    },
    {
      "cell_type": "markdown",
      "source": [
        "Ejercicio 4"
      ],
      "metadata": {
        "id": "-FpkUlSzKWW-"
      }
    },
    {
      "cell_type": "code",
      "source": [
        "# Función para leer 3 calificaciones  y muestre el promedio\n",
        "\n",
        "def reporte(cal1, cal2, cal3):\n",
        "    promedio = (cal1 + cal2 + cal3) / 3\n",
        "    return f\"\"\"Reporte de calificaciones:\n",
        "    Promedio: {promedio}\n",
        "    calificación 1 : {cal1}\n",
        "    calificación 2: {cal2}\n",
        "    calificación 3: {cal3}\n",
        "    \"\"\""
      ],
      "metadata": {
        "id": "6LGs1rjdWvWr"
      },
      "execution_count": null,
      "outputs": []
    },
    {
      "cell_type": "code",
      "source": [
        "# Llamamos a la función que genera el reporte print(funcion(cal1, cal2, cal3))\n",
        "print(reporte(8, 7, 10))"
      ],
      "metadata": {
        "id": "h4z1Toa4Xgqn"
      },
      "execution_count": null,
      "outputs": []
    },
    {
      "cell_type": "code",
      "source": [
        "# Función promedio \n",
        "def prom(values):\n",
        "    total = sum(values)\n",
        "    numero_de_items = len(values)\n",
        "    return total / numero_de_items"
      ],
      "metadata": {
        "id": "9KEOg_xTYFKn"
      },
      "execution_count": null,
      "outputs": []
    },
    {
      "cell_type": "code",
      "source": [
        "prom([8, 7, 10]) "
      ],
      "metadata": {
        "id": "5-SPvHjcYZDB"
      },
      "execution_count": null,
      "outputs": []
    },
    {
      "cell_type": "code",
      "source": [
        "# Actualiza la función\n",
        "def reporte(cal1, cal2, cal3):\n",
        "    return f\"\"\" Reporte:\n",
        "    Total Average: {prom([cal1, cal2, cal3])}\n",
        "    calificacion 1: {cal1}\n",
        "    calificación 2: {cal2}\n",
        "    calificación 3: {cal3}\n",
        "    \"\"\"\n",
        "\n",
        "print(reporte(8, 7, 10))"
      ],
      "metadata": {
        "id": "nuzuxnh6Y-Vz"
      },
      "execution_count": null,
      "outputs": []
    }
  ]
}