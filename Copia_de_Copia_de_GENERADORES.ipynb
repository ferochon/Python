{
  "nbformat": 4,
  "nbformat_minor": 0,
  "metadata": {
    "colab": {
      "name": "Copia de Copia de GENERADORES.ipynb",
      "provenance": [],
      "include_colab_link": true
    },
    "kernelspec": {
      "name": "python3",
      "display_name": "Python 3"
    },
    "language_info": {
      "name": "python"
    }
  },
  "cells": [
    {
      "cell_type": "markdown",
      "metadata": {
        "id": "view-in-github",
        "colab_type": "text"
      },
      "source": [
        "<a href=\"https://colab.research.google.com/github/ferochon/Python/blob/main/Copia_de_Copia_de_GENERADORES.ipynb\" target=\"_parent\"><img src=\"https://colab.research.google.com/assets/colab-badge.svg\" alt=\"Open In Colab\"/></a>"
      ]
    },
    {
      "cell_type": "markdown",
      "source": [
        "#Generadores\n",
        "Un generador es una función que produce una secuencia de resultados en lugar de un único valor. Es decir, cada vez que llamemos a la función nos darán un nuevo resultado. Para construir generadores sólo tenemos que usar la orden yield. Esta orden devolverá un valor igual que hace return pero, además, pasará la ejecución de la función hasta la próxima vez que le pidamos un valor."
      ],
      "metadata": {
        "id": "ciyihGkC-tvz"
      }
    },
    {
      "cell_type": "markdown",
      "source": [
        "Queremos calcular los cuadrados de una lista de números que se pasan como parámetro. Una solución podría ser la siguiente:"
      ],
      "metadata": {
        "id": "m999nIKL-0UY"
      }
    },
    {
      "cell_type": "code",
      "execution_count": null,
      "metadata": {
        "colab": {
          "base_uri": "https://localhost:8080/"
        },
        "id": "CzHyyJwr-qHJ",
        "outputId": "de22ac05-6e37-4f84-8bd2-29ac7d19ecb0"
      },
      "outputs": [
        {
          "output_type": "execute_result",
          "data": {
            "text/plain": [
              "[1, 4, 9, 16, 25]"
            ]
          },
          "metadata": {},
          "execution_count": 1
        }
      ],
      "source": [
        "def squares(numbers):\n",
        "  return [number*number for number in numbers]\n",
        " \n",
        "# si hacemos la siguiente llamada\n",
        "squares([1,2,3,4,5])"
      ]
    },
    {
      "cell_type": "markdown",
      "source": [
        "Esta forma de hacerlo tiene un problema, todos los resultados se generan de una vez. Si la lista numbers fuese muy grande, el tiempo de ejecución podría ser considerable.\n",
        "\n",
        "¿Y si pudiéramos calcular los cuadrados uno a uno? Si no necesitamos todos los resultados, esto podría ser muy útil. Ahora es cuando yield va a ser muy útil."
      ],
      "metadata": {
        "id": "YLZV8cmX-_qI"
      }
    },
    {
      "cell_type": "code",
      "source": [
        "def squares(numbers):\n",
        "  for number in numbers:\n",
        "    yield number*number\n",
        " \n",
        "# esta vez, si hacemos la siguiente llamada, no obtenemos resultados\n",
        "# sino que vamos a crear un generador\n",
        "squares([1,2,3,4,5])\n",
        " \n"
      ],
      "metadata": {
        "colab": {
          "base_uri": "https://localhost:8080/"
        },
        "id": "Cu1qLfqv_DKa",
        "outputId": "fa1eb191-009c-4ee6-cb3f-82d0e062f4d4"
      },
      "execution_count": null,
      "outputs": [
        {
          "output_type": "execute_result",
          "data": {
            "text/plain": [
              "<generator object squares at 0x7f353930fb50>"
            ]
          },
          "metadata": {},
          "execution_count": 2
        }
      ]
    },
    {
      "cell_type": "code",
      "source": [
        "# podemos iterar sobre el generador\n",
        "# si ejecutamos\n",
        "for square in squares([1,2,3]):\n",
        "  print(square)"
      ],
      "metadata": {
        "id": "JO0NUAE2_MaY",
        "outputId": "b27b4747-ec14-4e40-ffaf-86820aac917b",
        "colab": {
          "base_uri": "https://localhost:8080/"
        }
      },
      "execution_count": null,
      "outputs": [
        {
          "output_type": "stream",
          "name": "stdout",
          "text": [
            "1\n",
            "4\n",
            "9\n"
          ]
        }
      ]
    },
    {
      "cell_type": "markdown",
      "source": [
        "Mostrar los números pares que hay en del 0 al 10\n",
        "\n",
        "Veamos a ver cómo crear una función generadora de pares:"
      ],
      "metadata": {
        "id": "aQvfc8zI_ZFo"
      }
    },
    {
      "cell_type": "code",
      "source": [
        "def pares(n):\n",
        "  n=10\n",
        "  for numero in range(n+1):\n",
        "    if numero % 2 == 0:\n",
        "      yield numero\n",
        "\n",
        "\n",
        "for numero in pares(10):\n",
        "    print(numero)"
      ],
      "metadata": {
        "id": "7YhdEtW2_cqs",
        "outputId": "446945d3-e05a-4911-e94b-7f2f1ad9a069",
        "colab": {
          "base_uri": "https://localhost:8080/"
        }
      },
      "execution_count": null,
      "outputs": [
        {
          "output_type": "stream",
          "name": "stdout",
          "text": [
            "0\n",
            "2\n",
            "4\n",
            "6\n",
            "8\n",
            "10\n"
          ]
        }
      ]
    },
    {
      "cell_type": "markdown",
      "source": [
        "si una función contiene al menos una sentencia yield, se convertirá en una función generadora. Una función generadora se diferencia de una función normal en que tras ejecutar el yield, la función devuelve el control a quién la llamó, pero la función es pausada y el estado (valor de las variables) es guardado. Esto permite que su ejecución pueda ser reanudada más adelante."
      ],
      "metadata": {
        "id": "r7DcMFAE_v27"
      }
    },
    {
      "cell_type": "code",
      "source": [
        "def numeros_naturales():\n",
        "  n = 1\n",
        "  while True:\n",
        "    yield n\n",
        "    n += 1\n",
        " \n",
        "for natural in numeros_naturales():\n",
        "   print(natural)"
      ],
      "metadata": {
        "id": "lZNKSUAHAAoI"
      },
      "execution_count": null,
      "outputs": []
    }
  ]
}