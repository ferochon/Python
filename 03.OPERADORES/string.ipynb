{
  "nbformat": 4,
  "nbformat_minor": 0,
  "metadata": {
    "colab": {
      "name": "Copia de Untitled0.ipynb",
      "provenance": [],
      "authorship_tag": "ABX9TyNjSJckUCiMN/W/urUp84rA",
      "include_colab_link": true
    },
    "kernelspec": {
      "name": "python3",
      "display_name": "Python 3"
    },
    "language_info": {
      "name": "python"
    }
  },
  "cells": [
    {
      "cell_type": "markdown",
      "metadata": {
        "id": "view-in-github",
        "colab_type": "text"
      },
      "source": [
        "<a href=\"https://colab.research.google.com/github/ferochon/Python/blob/main/03.OPERADORES/string.ipynb\" target=\"_parent\"><img src=\"https://colab.research.google.com/assets/colab-badge.svg\" alt=\"Open In Colab\"/></a>"
      ]
    },
    {
      "cell_type": "code",
      "execution_count": null,
      "metadata": {
        "colab": {
          "base_uri": "https://localhost:8080/"
        },
        "id": "pApzk9qm63ta",
        "outputId": "b1360ac5-979d-48a1-fae3-16756b507438"
      },
      "outputs": [
        {
          "output_type": "stream",
          "name": "stdout",
          "text": [
            "Esta es una línea\n",
            "esta es otra línea\n",
            "y estra es otra línea\n"
          ]
        }
      ],
      "source": [
        "print('Esta es una línea\\nesta es otra línea\\ny estra es otra línea')"
      ]
    },
    {
      "cell_type": "code",
      "source": [
        "x='uno'\n",
        "y='dos'\n",
        "print(x*3)"
      ],
      "metadata": {
        "colab": {
          "base_uri": "https://localhost:8080/"
        },
        "id": "ICP5GWsV9qiP",
        "outputId": "f8b971dd-7d4d-4f2f-d412-1ec7273a0aa3"
      },
      "execution_count": null,
      "outputs": [
        {
          "output_type": "stream",
          "name": "stdout",
          "text": [
            "unounouno\n"
          ]
        }
      ]
    },
    {
      "cell_type": "code",
      "source": [
        "x='uno'\n",
        "y='dos'\n",
        "print(x+y)"
      ],
      "metadata": {
        "colab": {
          "base_uri": "https://localhost:8080/"
        },
        "id": "bzv7ybYz-xFM",
        "outputId": "dc2ea215-5fb6-46a8-8156-40ca86f59a74"
      },
      "execution_count": null,
      "outputs": [
        {
          "output_type": "stream",
          "name": "stdout",
          "text": [
            "unodos\n"
          ]
        }
      ]
    },
    {
      "cell_type": "code",
      "source": [
        "print(f'hola{Rafael}'*'*3})"
      ],
      "metadata": {
        "id": "fznok1xWApUV"
      },
      "execution_count": null,
      "outputs": []
    },
    {
      "cell_type": "code",
      "source": [
        "nombre='Rafael'\n",
        "print('hola '+ nombre)"
      ],
      "metadata": {
        "colab": {
          "base_uri": "https://localhost:8080/"
        },
        "id": "PgoVzcOb-8wS",
        "outputId": "678a04c8-a516-4ab0-8f5e-57929e4e75e9"
      },
      "execution_count": null,
      "outputs": [
        {
          "output_type": "stream",
          "name": "stdout",
          "text": [
            "hola Rafael\n"
          ]
        }
      ]
    },
    {
      "cell_type": "code",
      "source": [
        "nombre='Rafael'\n",
        "print(f'''hola {nombre}\n",
        "cómo estas?''')"
      ],
      "metadata": {
        "colab": {
          "base_uri": "https://localhost:8080/"
        },
        "id": "GrZiNuW_BD6A",
        "outputId": "ea261fd9-0789-4eb7-b6a1-099edaf4a5e0"
      },
      "execution_count": null,
      "outputs": [
        {
          "output_type": "stream",
          "name": "stdout",
          "text": [
            "hola Rafael\n",
            "cómo estas?\n"
          ]
        }
      ]
    },
    {
      "cell_type": "code",
      "source": [
        "porc='15%'\n",
        "print('''porcentaje de niños\n",
        "es de''' % porc)\n"
      ],
      "metadata": {
        "colab": {
          "base_uri": "https://localhost:8080/",
          "height": 269
        },
        "id": "7UfCLzGqCvjF",
        "outputId": "dfae598a-418b-49bf-c348-386558c3243b"
      },
      "execution_count": null,
      "outputs": [
        {
          "output_type": "stream",
          "name": "stderr",
          "text": [
            "ERROR:root:An unexpected error occurred while tokenizing input\n",
            "The following traceback may be corrupted or invalid\n",
            "The error message is: ('EOF in multi-line string', (1, 5))\n",
            "\n"
          ]
        },
        {
          "output_type": "error",
          "ename": "TypeError",
          "evalue": "ignored",
          "traceback": [
            "\u001b[0;31m---------------------------------------------------------------------------\u001b[0m",
            "\u001b[0;31mTypeError\u001b[0m                                 Traceback (most recent call last)",
            "\u001b[0;32m<ipython-input-20-495056c2b2ea>\u001b[0m in \u001b[0;36m<module>\u001b[0;34m()\u001b[0m\n\u001b[1;32m      1\u001b[0m \u001b[0mporc\u001b[0m\u001b[0;34m=\u001b[0m\u001b[0;34m'15%'\u001b[0m\u001b[0;34m\u001b[0m\u001b[0;34m\u001b[0m\u001b[0m\n\u001b[1;32m      2\u001b[0m print('''porcentaje de niños\n\u001b[0;32m----> 3\u001b[0;31m es de''' % porc)\n\u001b[0m",
            "\u001b[0;31mTypeError\u001b[0m: not all arguments converted during string formatting"
          ]
        }
      ]
    },
    {
      "cell_type": "code",
      "source": [
        "print('''En los centros {0}, puedes encontrar la {1}\n",
        "existen 140 {0}, donde se oferta el taller en toda la {2}'''.format ('Pilares', 'Esculea de código', 'CDMX'))\n"
      ],
      "metadata": {
        "colab": {
          "base_uri": "https://localhost:8080/"
        },
        "id": "-TW88AJAD2af",
        "outputId": "b606dd56-c5b8-4242-b682-b4d72789252c"
      },
      "execution_count": null,
      "outputs": [
        {
          "output_type": "stream",
          "name": "stdout",
          "text": [
            "En los centros Pilares, puedes encontrar la Esculea de código\n",
            "existen 140 Pilares, donde se oferta el taller en toda la CDMX\n"
          ]
        }
      ]
    },
    {
      "cell_type": "code",
      "source": [
        "porcentaje=15.5\n",
        "print('El porcentaje de niños es de %f de la población mundial'%porcentaje)\n"
      ],
      "metadata": {
        "colab": {
          "base_uri": "https://localhost:8080/"
        },
        "id": "a5HOzQsPG5s7",
        "outputId": "4fbb3360-75e0-4c28-b3eb-4565fb9ba2e8"
      },
      "execution_count": null,
      "outputs": [
        {
          "output_type": "stream",
          "name": "stdout",
          "text": [
            "El porcentaje de niños es de 15.500000 de la población mundial\n"
          ]
        }
      ]
    },
    {
      "cell_type": "code",
      "source": [
        "nombre='David SANTILLAN'\n",
        "print(nombre.lower())"
      ],
      "metadata": {
        "colab": {
          "base_uri": "https://localhost:8080/"
        },
        "id": "vBuPUB3zIhM3",
        "outputId": "e5f81ef0-6fc3-4f88-a1b1-d657b9417e3a"
      },
      "execution_count": null,
      "outputs": [
        {
          "output_type": "stream",
          "name": "stdout",
          "text": [
            "david santillan\n"
          ]
        }
      ]
    },
    {
      "cell_type": "code",
      "source": [
        "nombre='David SANTILLAN'\n",
        "print(nombre.upper())"
      ],
      "metadata": {
        "colab": {
          "base_uri": "https://localhost:8080/"
        },
        "id": "dvRhMbeIJqXD",
        "outputId": "ffe4b55c-9c05-4085-e101-051f55e340f3"
      },
      "execution_count": null,
      "outputs": [
        {
          "output_type": "stream",
          "name": "stdout",
          "text": [
            "DAVID SANTILLAN\n"
          ]
        }
      ]
    },
    {
      "cell_type": "code",
      "source": [
        "nombre='David SANTILLÁN'\n",
        "print(nombre.title())"
      ],
      "metadata": {
        "colab": {
          "base_uri": "https://localhost:8080/"
        },
        "id": "qMk4AB9rJyF8",
        "outputId": "c95b18db-2c45-4487-ff8f-2a2564c698ae"
      },
      "execution_count": null,
      "outputs": [
        {
          "output_type": "stream",
          "name": "stdout",
          "text": [
            "David Santillán\n"
          ]
        }
      ]
    },
    {
      "cell_type": "code",
      "source": [
        "taller='escuela de código'\n",
        "nombre='Rafael Hernández'\n",
        "folio='1509'\n",
        "\n",
        "\n"
      ],
      "metadata": {
        "id": "sDf1RfmUKiHY"
      },
      "execution_count": null,
      "outputs": []
    },
    {
      "cell_type": "code",
      "source": [
        "titulo=f'Taller de {taller}'\n"
      ],
      "metadata": {
        "colab": {
          "base_uri": "https://localhost:8080/",
          "height": 35
        },
        "id": "GxD_PeHcNxr7",
        "outputId": "2afed359-79c3-4033-a0f7-99ef33d908c2"
      },
      "execution_count": null,
      "outputs": [
        {
          "output_type": "execute_result",
          "data": {
            "text/plain": [
              "'Taller de escuela de código'"
            ],
            "application/vnd.google.colaboratory.intrinsic+json": {
              "type": "string"
            }
          },
          "metadata": {},
          "execution_count": 41
        }
      ]
    },
    {
      "cell_type": "code",
      "source": [
        "plantilla=f'''\n",
        "{'-'*30}\n",
        "Nombre: {nombre}\n",
        "folio de  {taller}: {folio}'''\n",
        "print(plantilla)"
      ],
      "metadata": {
        "colab": {
          "base_uri": "https://localhost:8080/"
        },
        "id": "BJ8ldhtZOK2G",
        "outputId": "9c0efda9-0098-4ab6-b1c1-da9c9c87ad00"
      },
      "execution_count": null,
      "outputs": [
        {
          "output_type": "stream",
          "name": "stdout",
          "text": [
            "\n",
            "------------------------------\n",
            "Nombre: Rafael Hernández\n",
            "folio de  escuela de código: 1509\n"
          ]
        }
      ]
    },
    {
      "cell_type": "code",
      "source": [
        "tabla=titulo + plantilla\n",
        "print(tabla)"
      ],
      "metadata": {
        "colab": {
          "base_uri": "https://localhost:8080/"
        },
        "id": "hh-65V90O66B",
        "outputId": "06166e25-4641-4e0a-bd85-2a442d3f29c0"
      },
      "execution_count": null,
      "outputs": [
        {
          "output_type": "stream",
          "name": "stdout",
          "text": [
            "Taller de escuela de código\n",
            "------------------------------\n",
            "Nombre: Rafael Hernández\n",
            "folio de  escuela de código: 1509\n"
          ]
        }
      ]
    }
  ]
}