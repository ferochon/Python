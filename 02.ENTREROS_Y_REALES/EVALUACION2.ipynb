{
  "nbformat": 4,
  "nbformat_minor": 0,
  "metadata": {
    "colab": {
      "name": "EVALUACION2.ipynb",
      "provenance": [],
      "include_colab_link": true
    },
    "kernelspec": {
      "name": "python3",
      "display_name": "Python 3"
    },
    "language_info": {
      "name": "python"
    }
  },
  "cells": [
    {
      "cell_type": "markdown",
      "metadata": {
        "id": "view-in-github",
        "colab_type": "text"
      },
      "source": [
        "<a href=\"https://colab.research.google.com/github/ferochon/Python/blob/main/02.ENTREROS_Y_REALES/EVALUACION2.ipynb\" target=\"_parent\"><img src=\"https://colab.research.google.com/assets/colab-badge.svg\" alt=\"Open In Colab\"/></a>"
      ]
    },
    {
      "cell_type": "markdown",
      "source": [
        "# Práctica 2. \n",
        "6 puntos\n",
        "\n",
        "### 2 Práctica  Números enteros y reales.\n",
        "\n",
        "Realiza los ejercicios de acuerdo a las indicaciones\n",
        "\n",
        "2.1 Ejercicio 1 (1.5 puntos)\n",
        "\n",
        "Escribir un programa que convierta un valor dado en grados Fahrenheit a grados Celsius."
      ],
      "metadata": {
        "id": "sZwziQp3dWqo"
      }
    },
    {
      "cell_type": "code",
      "source": [
        "gr_fahrenheit =float (input (\"Introduce el dato en grados Fahrenheit:\"))\n",
        "gr_celsius=5*(gr_fahrenheit - 32)/9\n",
        "print(\"Su valor en grados Celsius es:\", gr_celsius)\n"
      ],
      "metadata": {
        "id": "ATUeLXAvdKdP",
        "outputId": "b0c24e54-1afe-424f-f65c-76990197c315",
        "colab": {
          "base_uri": "https://localhost:8080/"
        }
      },
      "execution_count": 2,
      "outputs": [
        {
          "output_type": "stream",
          "name": "stdout",
          "text": [
            "Introduce el dato en grados Fahrenheit:50\n",
            "Su valor en grados Celsius es: 10.0\n"
          ]
        }
      ]
    },
    {
      "cell_type": "markdown",
      "source": [
        "2.2 Ejercicio 2 (1.5 puntos)\n",
        "\n",
        "Dados dos números, mostrar la suma, resta, división y multiplicación de ambos.\n",
        "\n"
      ],
      "metadata": {
        "id": "8ubdyEbEdMeW"
      }
    },
    {
      "cell_type": "code",
      "source": [
        "num_1= float(input(\"Introduce el primer número: \"))\n",
        "num_2= float(input(\"Introduce el segundo número: \"))\n",
        "print(\"Suma= \", num_1+ num_2, \"Resta= \", num_1- num_2, \"Multiplicación= \", num_1* num_2, \"División= \", num_1/ num_2)\n"
      ],
      "metadata": {
        "id": "XQEFFzmSdPCH",
        "colab": {
          "base_uri": "https://localhost:8080/"
        },
        "outputId": "c681475b-ad49-4b14-816b-d6c8e1d66b46"
      },
      "execution_count": null,
      "outputs": [
        {
          "output_type": "stream",
          "name": "stdout",
          "text": [
            "Introduce el primer número: 20\n",
            "Introduce el segundo número: 5\n",
            "Suma=  25.0 Resta=  15.0 Multiplicación=  100.0 División=  4.0\n"
          ]
        }
      ]
    },
    {
      "cell_type": "markdown",
      "source": [
        "2.3 Ejercicio 3 (1.5 puntos)\n",
        "\n",
        "Calcular el perímetro y área de un rectángulo dada su base y su altura. Respuesta:"
      ],
      "metadata": {
        "id": "cVDihbpZdRa6"
      }
    },
    {
      "cell_type": "code",
      "source": [
        "base=float(input('Introduce la base del rectángulo:'))\n",
        "altura=float(input('Introduce la altura del rectángulo:'))\n",
        "print('Su perímetro es', 2*base+2*altura,'y su área', base*altura)\n"
      ],
      "metadata": {
        "id": "MJ849GWadSGN",
        "colab": {
          "base_uri": "https://localhost:8080/"
        },
        "outputId": "cf2b48e1-1b42-471e-c4a7-d2e0f9c3d046"
      },
      "execution_count": null,
      "outputs": [
        {
          "output_type": "stream",
          "name": "stdout",
          "text": [
            "Introduce la base del rectángulo:10\n",
            "Introduce la altura del rectángulo:20\n",
            "Su perímetro es 60.0 y su área 200.0\n"
          ]
        }
      ]
    }
  ]
}