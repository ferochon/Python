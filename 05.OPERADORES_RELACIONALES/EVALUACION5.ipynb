{
  "nbformat": 4,
  "nbformat_minor": 0,
  "metadata": {
    "colab": {
      "name": "EVALUACION5.ipynb",
      "provenance": []
    },
    "kernelspec": {
      "name": "python3",
      "display_name": "Python 3"
    },
    "language_info": {
      "name": "python"
    }
  },
  "cells": [
    {
      "cell_type": "markdown",
      "source": [
        "#5 Práctica 5. \n",
        "Operadores relacionales. (6 puntos)\n",
        "\n",
        "## 5.1 Ejercicio 1 (2 puntos)\n",
        "Programa que imprima si el número es positivo o negativo, el número debe ser ingresado por consola.\n",
        "\n"
      ],
      "metadata": {
        "id": "r7beNH5cW9_x"
      }
    },
    {
      "cell_type": "code",
      "source": [
        "numero=int(input('Dame un número:'))\n",
        "if(numero>0):\n",
        "  print(numero, 'es un número positivo')\n",
        "elif numero<0:\n",
        "  print(numero, 'es un número negativo')  \n",
        "else: print('El número que escribiste es cero')\n"
      ],
      "metadata": {
        "id": "bZVUL37GXES5",
        "outputId": "4051f3dd-a9d1-49ad-ace8-fc8840ce2776",
        "colab": {
          "base_uri": "https://localhost:8080/"
        }
      },
      "execution_count": 17,
      "outputs": [
        {
          "output_type": "stream",
          "name": "stdout",
          "text": [
            "Dame un número:-10\n",
            "-10 es un número negativo\n"
          ]
        }
      ]
    },
    {
      "cell_type": "markdown",
      "source": [
        "## 5.2 Ejercicio 2 (2 puntos)\n",
        "Programa que imprima si el número ingresado esta en el rango de 1 a 7, el número se solicita por consola.\n",
        "\n"
      ],
      "metadata": {
        "id": "HCdfkizhXH84"
      }
    },
    {
      "cell_type": "code",
      "execution_count": 16,
      "metadata": {
        "id": "-gwRlEcsW8t9",
        "colab": {
          "base_uri": "https://localhost:8080/"
        },
        "outputId": "6b217d75-727b-4712-83fe-139e8752a2d0"
      },
      "outputs": [
        {
          "output_type": "stream",
          "name": "stdout",
          "text": [
            "Introduce un número:-1\n",
            "número fuera del rango [1 a 7]\n"
          ]
        }
      ],
      "source": [
        "numero=float(input(\"Introduce un número:\"))\n",
        "if (0<=numero<=7): \n",
        "  print('número dentro del rango [1 a 7]')\n",
        "else: \n",
        "  print('número fuera del rango [1 a 7]')"
      ]
    },
    {
      "cell_type": "markdown",
      "source": [
        "## 5.3 Ejercicio 3 (2 puntos)\n",
        "Programa que solicite un monto y que solicite el interés mensual, si el interés es mayor al 30% nos imprimirá que es incorrecto, si es menor realizará el cálculo e imprimira el monto con su interés adicionado."
      ],
      "metadata": {
        "id": "MfOTeEoPXMPg"
      }
    },
    {
      "cell_type": "code",
      "source": [
        "\n",
        "  "
      ],
      "metadata": {
        "id": "vK-sijxOXN_I"
      },
      "execution_count": null,
      "outputs": []
    }
  ]
}