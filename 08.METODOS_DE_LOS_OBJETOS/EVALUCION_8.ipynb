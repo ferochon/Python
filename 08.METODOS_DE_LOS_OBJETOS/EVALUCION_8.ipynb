{
  "nbformat": 4,
  "nbformat_minor": 0,
  "metadata": {
    "colab": {
      "name": "EVALUCION 8.ipynb",
      "provenance": [],
      "collapsed_sections": [],
      "authorship_tag": "ABX9TyMAZtAvfZvooZdk+SssGMTK",
      "include_colab_link": true
    },
    "kernelspec": {
      "name": "python3",
      "display_name": "Python 3"
    },
    "language_info": {
      "name": "python"
    }
  },
  "cells": [
    {
      "cell_type": "markdown",
      "metadata": {
        "id": "view-in-github",
        "colab_type": "text"
      },
      "source": [
        "<a href=\"https://colab.research.google.com/github/ferochon/Python/blob/main/08.METODOS_DE_LOS_OBJETOS/EVALUCION_8.ipynb\" target=\"_parent\"><img src=\"https://colab.research.google.com/assets/colab-badge.svg\" alt=\"Open In Colab\"/></a>"
      ]
    },
    {
      "cell_type": "markdown",
      "source": [
        "Práctica 8. (6 puntos)\n",
        "Ejercicio 1 (2 puntos)\n",
        "Escribe un programa python que pida un número por teclado y que cree un diccionario cuyas claves sean desde el número 1 hasta el número indicado, y los valores sean los cuadrados de las claves.\n",
        "\n",
        "Ejemplo: si se ingresa el 4 imprima el cuadrado de 1, de 2, de 3 y de 4\n",
        "\n"
      ],
      "metadata": {
        "id": "greq90pISMfE"
      }
    },
    {
      "cell_type": "code",
      "source": [
        "cuadrados={}\n",
        "clave=int(input('Introduce el número de la clave (número entero):'))\n",
        "for i in range (1,clave+1):\n",
        "  cuadrados[i]=i**2\n",
        "print(cuadrados)\n",
        "\n"
      ],
      "metadata": {
        "colab": {
          "base_uri": "https://localhost:8080/"
        },
        "id": "_R_kfL6tSUV5",
        "outputId": "17346453-67d9-4d98-8518-80fd09afc49a"
      },
      "execution_count": null,
      "outputs": [
        {
          "output_type": "stream",
          "name": "stdout",
          "text": [
            "Introduce el número de la clave (número entero):24\n",
            "{1: 1, 2: 4, 3: 9, 4: 16, 5: 25, 6: 36, 7: 49, 8: 64, 9: 81, 10: 100, 11: 121, 12: 144, 13: 169, 14: 196, 15: 225, 16: 256, 17: 289, 18: 324, 19: 361, 20: 400, 21: 441, 22: 484, 23: 529, 24: 576}\n"
          ]
        }
      ]
    },
    {
      "cell_type": "markdown",
      "source": [
        "Ejercicio 2 (2 puntos)\n",
        "Escribe un programa que lea una cadena y devuelva un diccionario con la cantidad de apariciones de cada carácter en la cadena.\n",
        "\n",
        "Ejemplo: si se ingresa \"paloma\" p=1 a=2 l=1 o=1 m=1"
      ],
      "metadata": {
        "id": "Eo0FmYb8f4yQ"
      }
    },
    {
      "cell_type": "code",
      "source": [
        "lista_cadena=[]\n",
        "lista_sin_repeticiones=[]\n",
        "diccionario={}\n",
        "repeticiones=int(0)\n",
        "cadena=input('Ingresa una cadena de caracteres: ')\n",
        "num=len(cadena)\n",
        "lista_cadena.extend(cadena)\n",
        "for i in range(0,num):\n",
        "  repeticiones=lista_cadena.count(lista_cadena[i])\n",
        "  if repeticiones>1:\n",
        "\n",
        "  print(f'El caracter\"{lista_cadena[i]}\" aparece \"{repeticiones}\" veces en la cadena' )\n",
        "\n",
        "  \n"
      ],
      "metadata": {
        "colab": {
          "base_uri": "https://localhost:8080/"
        },
        "id": "IabikX2_YHmd",
        "outputId": "8306ca29-3405-49e8-d3a6-f0a74487b8b6"
      },
      "execution_count": null,
      "outputs": [
        {
          "output_type": "stream",
          "name": "stdout",
          "text": [
            "Ingresa una cadena de caracteres: bobos\n",
            "El caracter\"b\" aparece \"2\" veces en la cadena\n",
            "El caracter\"o\" aparece \"2\" veces en la cadena\n",
            "El caracter\"b\" aparece \"2\" veces en la cadena\n",
            "El caracter\"o\" aparece \"2\" veces en la cadena\n",
            "El caracter\"s\" aparece \"1\" veces en la cadena\n"
          ]
        }
      ]
    }
  ]
}